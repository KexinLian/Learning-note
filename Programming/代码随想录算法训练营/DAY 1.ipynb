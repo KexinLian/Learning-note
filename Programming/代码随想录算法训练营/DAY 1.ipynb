{
 "cells": [
  {
   "cell_type": "markdown",
   "id": "5e7d5e46",
   "metadata": {},
   "source": [
    "# 代码随想录算法训练营DAY 1| 数组理论，704. 二分查找，27. 移除元素"
   ]
  },
  {
   "cell_type": "markdown",
   "id": "cf933e07",
   "metadata": {},
   "source": [
    "# 数组理论\n",
    "文章链接：[数组理论](https://programmercarl.com/%E6%95%B0%E7%BB%84%E7%90%86%E8%AE%BA%E5%9F%BA%E7%A1%80.html)\n",
    "\n",
    "\n",
    "# 704. 二分查找\n",
    "【Leetcode Link】[704. 二分查找](https://leetcode.cn/problems/binary-search/)\n"
   ]
  },
  {
   "cell_type": "code",
   "execution_count": 3,
   "id": "d2f98086",
   "metadata": {},
   "outputs": [],
   "source": [
    "def search(self, nums: list[int], target: int) -> int:\n",
    "        left, right = 0, len(nums) - 1\n",
    "        while left <= right:\n",
    "            mid = (right - left) // 2 + left # Middle position\n",
    "            num_mid = nums[mid]\n",
    "            if num_mid == target:\n",
    "                return mid\n",
    "            elif num_mid > target:\n",
    "                right = mid - 1 # Right point move\n",
    "            else:\n",
    "                left = mid + 1 # Left point move\n",
    "        return -1"
   ]
  },
  {
   "cell_type": "markdown",
   "id": "689688e0",
   "metadata": {},
   "source": [
    "# 27. Remove Element\n",
    "【Leetcode Link】 [27. Remove Element](https://leetcode.cn/problems/remove-element/ )\n",
    "\n",
    "【Attention】\n",
    "We cannot really delete the position of the corresponding element of the array. The position cannot be deleted but be replaced.\n",
    "The returned result is the length of the new array.\n",
    "\n",
    "[1,2,3,4,5] → [1,2,,←4,←5] \n",
    "Remember to move the last two letters. The size of array is still 5. "
   ]
  },
  {
   "cell_type": "code",
   "execution_count": 4,
   "id": "54b4ffb9",
   "metadata": {},
   "outputs": [],
   "source": [
    "class Solution:\n",
    "    def removeElement(self, nums: list[int], val: int) -> int:\n",
    "        if nums is None or len(nums)==0: \n",
    "            return 0 \n",
    "        l=0\n",
    "        r=len(nums)-1\n",
    "        while l<r: \n",
    "            # 找左边等于val的元素\n",
    "            while(l<r and nums[l]!=val):\n",
    "                l+=1\n",
    "            # 找右边不等于val的元素\n",
    "            while(l<r and nums[r]==val):\n",
    "                r-=1\n",
    "            # 将右边不等于val的元素覆盖左边等于val的元素\n",
    "            nums[l], nums[r]=nums[r], nums[l]\n",
    "        print(nums)\n",
    "        # The first element is the target value\n",
    "        if nums[l]==val:\n",
    "            return l\n",
    "        # return the l+1 element（index+1）\n",
    "        else: \n",
    "            return l+1\n",
    "\n",
    "#fast pointer用于获取新数组中的element，slow pointer collect the position，是新数组中对应的位置\n"
   ]
  },
  {
   "cell_type": "code",
   "execution_count": null,
   "id": "c7234d50",
   "metadata": {},
   "outputs": [],
   "source": []
  }
 ],
 "metadata": {
  "kernelspec": {
   "display_name": "Python 3 (ipykernel)",
   "language": "python",
   "name": "python3"
  },
  "language_info": {
   "codemirror_mode": {
    "name": "ipython",
    "version": 3
   },
   "file_extension": ".py",
   "mimetype": "text/x-python",
   "name": "python",
   "nbconvert_exporter": "python",
   "pygments_lexer": "ipython3",
   "version": "3.9.7"
  }
 },
 "nbformat": 4,
 "nbformat_minor": 5
}
