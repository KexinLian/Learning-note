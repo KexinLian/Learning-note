{
 "cells": [
  {
   "cell_type": "code",
   "execution_count": null,
   "id": "da1e5117",
   "metadata": {},
   "outputs": [],
   "source": []
  },
  {
   "cell_type": "code",
   "execution_count": null,
   "id": "668b11dc",
   "metadata": {},
   "outputs": [],
   "source": []
  },
  {
   "cell_type": "code",
   "execution_count": null,
   "id": "534a5800",
   "metadata": {},
   "outputs": [],
   "source": []
  },
  {
   "cell_type": "markdown",
   "id": "c367e548",
   "metadata": {},
   "source": [
    "## 2.4 M function in PowerBI"
   ]
  },
  {
   "cell_type": "code",
   "execution_count": null,
   "id": "437eb3eb",
   "metadata": {},
   "outputs": [],
   "source": []
  },
  {
   "cell_type": "markdown",
   "id": "842d5cdc",
   "metadata": {},
   "source": [
    "## 2.5 Text Processing Tips： Remove and Select"
   ]
  },
  {
   "cell_type": "markdown",
   "id": "01671fff",
   "metadata": {},
   "source": [
    "### Text.Remove "
   ]
  },
  {
   "cell_type": "markdown",
   "id": "69d75e9d",
   "metadata": {},
   "source": [
    "**Only want to get Chinese name**\n",
    "\n",
    "Text.Remove([Customer],{\"A\"..\"Z\"})\n",
    "\n",
    "Text.Remove([Customer],{\"A\"..\"z\"})"
   ]
  },
  {
   "cell_type": "markdown",
   "id": "205a9e92",
   "metadata": {},
   "source": [
    "**Only want to get English name**\n",
    "\n",
    "Text.Remove([Customer],{\"一\"..\"龟\"})\n",
    "\n",
    "The Chinese characters in Powerquery are stored in Unicode sequentially, the Unicode of \"一\" is the smallest, and the Unicode of \"龟\" is the largest among the Chinese characters in normal use, so {\"一\"...\" Turtle\"} contains a list of all normal Chinese characters, so we can use this feature to remove all Chinese characters."
   ]
  },
  {
   "cell_type": "markdown",
   "id": "8823cdf4",
   "metadata": {},
   "source": [
    "**Only want to get contact details**\n",
    "\n",
    "Text.Remove([Customer],{\"A\"..\"z\",\"一\"..\"龟\"})"
   ]
  },
  {
   "cell_type": "markdown",
   "id": "5549af05",
   "metadata": {},
   "source": [
    "### Text.Select"
   ]
  },
  {
   "cell_type": "markdown",
   "id": "1b4d387c",
   "metadata": {},
   "source": [
    "**Only want to get contact details**\n",
    "\n",
    "Text.Remove([Customer],{\"0\"..\"9\"})"
   ]
  },
  {
   "cell_type": "code",
   "execution_count": null,
   "id": "90a732b1",
   "metadata": {},
   "outputs": [],
   "source": [
    "# 2.6 PowwerBI"
   ]
  },
  {
   "cell_type": "code",
   "execution_count": null,
   "id": "ff5cda5b",
   "metadata": {},
   "outputs": [],
   "source": []
  },
  {
   "cell_type": "code",
   "execution_count": null,
   "id": "7fa3eb9e",
   "metadata": {},
   "outputs": [],
   "source": []
  },
  {
   "cell_type": "code",
   "execution_count": null,
   "id": "c500386a",
   "metadata": {},
   "outputs": [],
   "source": []
  },
  {
   "cell_type": "code",
   "execution_count": null,
   "id": "f1959830",
   "metadata": {},
   "outputs": [],
   "source": []
  }
 ],
 "metadata": {
  "kernelspec": {
   "display_name": "Python 3 (ipykernel)",
   "language": "python",
   "name": "python3"
  },
  "language_info": {
   "codemirror_mode": {
    "name": "ipython",
    "version": 3
   },
   "file_extension": ".py",
   "mimetype": "text/x-python",
   "name": "python",
   "nbconvert_exporter": "python",
   "pygments_lexer": "ipython3",
   "version": "3.9.7"
  }
 },
 "nbformat": 4,
 "nbformat_minor": 5
}
