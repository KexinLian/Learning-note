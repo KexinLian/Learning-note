{
 "cells": [
  {
   "cell_type": "markdown",
   "metadata": {
    "id": "HfNbvZt3PLs1"
   },
   "source": [
    "# Machine Learning in Python - Project 2\n",
    "\n",
    "Due Friday, April 15th by 5 pm UK local time."
   ]
  },
  {
   "cell_type": "markdown",
   "metadata": {
    "id": "wLOfIFn3PLs_"
   },
   "source": [
    "Kaiqian Ji(s2178945); Kexin Lian(s2229433); Yitian Wu(s2167179); Xiaoyi Zhou(s2190991) "
   ]
  },
  {
   "cell_type": "markdown",
   "metadata": {
    "id": "_dWEibiQPLtF"
   },
   "source": [
    "## 0. Setup"
   ]
  },
  {
   "cell_type": "code",
   "execution_count": 1,
   "metadata": {
    "id": "KJnM4MvLPLtG"
   },
   "outputs": [],
   "source": [
    "!pip install folium\n",
    "!pip install plotly.express\n",
    "!pip install feature_engine\n",
    "!pip install tensorflow\n",
    "from tensorflow.keras.utils import to_categorical\n",
    "import keras\n",
    "from keras.layers import Dense\n",
    "from keras.models import Sequential\n",
    "from IPython.display import clear_output\n",
    "# Add any additional libraries or submodules below\n",
    "# Display plots inline\n",
    "%matplotlib inline\n",
    "# Data libraries\n",
    "import pandas as pd\n",
    "import numpy as np\n",
    "# Plotting libraries\n",
    "import matplotlib.pyplot as plt\n",
    "import seaborn as sns\n",
    "import sklearn\n",
    "# Plotting defaults\n",
    "plt.rcParams['figure.figsize'] = (8,5)\n",
    "plt.rcParams['figure.dpi'] = 80\n",
    "import folium\n",
    "import plotly.express as px\n",
    "import scipy.stats as stats\n",
    "from sklearn.model_selection import train_test_split\n",
    "from sklearn.neighbors import KNeighborsClassifier   #KNN\n",
    "from sklearn.metrics import confusion_matrix   \n",
    "from sklearn.metrics import classification_report\n",
    "from sklearn.pipeline import make_pipeline\n",
    "from sklearn.linear_model import LogisticRegression\n",
    "from sklearn.preprocessing import StandardScaler # scaling features\n",
    "from sklearn.pipeline import Pipeline            # combining classifier steps\n",
    "import warnings # prevent warnings\n",
    "warnings.filterwarnings('ignore')\n",
    "from sklearn.model_selection import GridSearchCV, RandomizedSearchCV, KFold, StratifiedKFold\n",
    "from feature_engine.transformation import LogTransformer\n",
    "from sklearn.tree import DecisionTreeClassifier\n",
    "from sklearn.ensemble import RandomForestClassifier\n",
    "from scipy.stats.distributions import loguniform\n",
    "from sklearn.metrics import roc_curve, precision_recall_curve\n",
    "from sklearn.metrics import roc_auc_score\n",
    "clear_output()"
   ]
  },
  {
   "cell_type": "code",
   "execution_count": 2,
   "metadata": {
    "colab": {
     "base_uri": "https://localhost:8080/",
     "height": 247
    },
    "id": "HwMIwDrsPbUz",
    "outputId": "92b9d0d4-c236-4a70-ce93-fa106f06912a"
   },
   "outputs": [
    {
     "data": {
      "text/plain": [
       "\" import os\\nfrom google.colab import drive\\n\\ndrive.mount('/content/drive')\\nos.chdir('drive/My Drive/Colab Notebooks/mlp/proj2')\\n!ls \""
      ]
     },
     "execution_count": 2,
     "metadata": {},
     "output_type": "execute_result"
    }
   ],
   "source": [
    "\"\"\" import os\n",
    "from google.colab import drive\n",
    "\n",
    "drive.mount('/content/drive')\n",
    "os.chdir('drive/My Drive/Colab Notebooks/mlp/proj2')\n",
    "!ls \"\"\""
   ]
  },
  {
   "cell_type": "code",
   "execution_count": 3,
   "metadata": {
    "id": "y7gK7_nWPLtK"
   },
   "outputs": [],
   "source": [
    "# Load data\n",
    "d = pd.read_csv(\"hotel.csv\")"
   ]
  },
  {
   "cell_type": "markdown",
   "metadata": {
    "id": "CXuJIRenPLtL"
   },
   "source": [
    "## 1. Introduction"
   ]
  },
  {
   "cell_type": "markdown",
   "metadata": {
    "id": "7QtIt5_TPLtM"
   },
   "source": [
    "In this project, we are primarily interested in the accuracy of the model and understanding what aspects of a booking affect the likelihood of it being canceled. We were first going to preprocess the data. When solving the problems of missing data, whether we transferred the null into the new classification or deleted the NA depends on the characteristics of the variable. Then we checked the duplication and extreme value. After the data preprocessing, there were 119203 data and 29 features in the original dataset.\n",
    "\n",
    "In the exploratory data analysis, we took time, geography, and other factors into consideration. In terms of time characteristics, the frequency of cancelation follows a seasonal pattern distinctly. Considering the guests from different countries, Countries that are closer to the hotels are likely to show lower cancellation rates.\n",
    "\n",
    "According to the correlation matrix, we did not find the highly correlated values. The most highly correlated variable of `is_cancled` is `lead_time`, `total_of_special_requests` and `previous_cancelations` also have a high degree of correlation.\n",
    "\n",
    "We chose 14 numerical variables and 15 categorical variables. The test set was split from data with a 30% probability.In the prediction of the cancelation, we built on our prediction model of logistic regression,and random forest. SVM is not used considering  the speed of model computation. At the same time, we also try ANN. Because the model needs to be interpreted and the neural network model data black-box model, it is not finally applicable in the report.\n",
    "\n",
    "Random forest performed best in the prediction and the accuracy of the model reached 89% and we can conclude the positive or negative effects.\n",
    "\n",
    "After the prediction, we analyzed the potential gains for the hotel predicted as an inexistent cancelation and the potential losses predicted as an inexistent order. Note that we got variables `stays_in_weekend_nights` and `adr`, we calculated that the final gains were 877287 and the losses are 1358860."
   ]
  },
  {
   "cell_type": "markdown",
   "metadata": {
    "id": "m-7aElg4PLtN"
   },
   "source": [
    "## 2. Exploratory Data Analysis and Feature Engineering"
   ]
  },
  {
   "cell_type": "markdown",
   "metadata": {
    "id": "xBdR6e4ePLtO"
   },
   "source": [
    "Before the model fitting, we need to explore and check our dataset. We could obtain more\n",
    "detailed information from the dataset, which would be helpful for us to find a better model and\n",
    "to achieve our goal. And we can also spot anomalies from the dataset. Besides, by exploratory\n",
    "data analysis, we might find some potential patterns in the data and then improve our model\n",
    "hypothesis."
   ]
  },
  {
   "cell_type": "code",
   "execution_count": 4,
   "metadata": {
    "colab": {
     "base_uri": "https://localhost:8080/",
     "height": 364
    },
    "id": "UkYp4SzTPLtU",
    "outputId": "aadc379c-2541-4da4-8f8f-919e28c5a4f1",
    "scrolled": true
   },
   "outputs": [
    {
     "data": {
      "text/html": [
       "<div>\n",
       "<style scoped>\n",
       "    .dataframe tbody tr th:only-of-type {\n",
       "        vertical-align: middle;\n",
       "    }\n",
       "\n",
       "    .dataframe tbody tr th {\n",
       "        vertical-align: top;\n",
       "    }\n",
       "\n",
       "    .dataframe thead th {\n",
       "        text-align: right;\n",
       "    }\n",
       "</style>\n",
       "<table border=\"1\" class=\"dataframe\">\n",
       "  <thead>\n",
       "    <tr style=\"text-align: right;\">\n",
       "      <th></th>\n",
       "      <th>is_canceled</th>\n",
       "      <th>lead_time</th>\n",
       "      <th>arrival_date_year</th>\n",
       "      <th>arrival_date_week_number</th>\n",
       "      <th>arrival_date_day_of_month</th>\n",
       "      <th>stays_in_weekend_nights</th>\n",
       "      <th>stays_in_week_nights</th>\n",
       "      <th>adults</th>\n",
       "      <th>children</th>\n",
       "      <th>babies</th>\n",
       "      <th>is_repeated_guest</th>\n",
       "      <th>previous_cancellations</th>\n",
       "      <th>previous_bookings_not_canceled</th>\n",
       "      <th>booking_changes</th>\n",
       "      <th>agent</th>\n",
       "      <th>company</th>\n",
       "      <th>days_in_waiting_list</th>\n",
       "      <th>adr</th>\n",
       "      <th>required_car_parking_spaces</th>\n",
       "      <th>total_of_special_requests</th>\n",
       "    </tr>\n",
       "  </thead>\n",
       "  <tbody>\n",
       "    <tr>\n",
       "      <th>count</th>\n",
       "      <td>119390.000000</td>\n",
       "      <td>119390.000000</td>\n",
       "      <td>119390.000000</td>\n",
       "      <td>119390.000000</td>\n",
       "      <td>119390.000000</td>\n",
       "      <td>119390.000000</td>\n",
       "      <td>119390.000000</td>\n",
       "      <td>119390.000000</td>\n",
       "      <td>119386.000000</td>\n",
       "      <td>119390.000000</td>\n",
       "      <td>119390.000000</td>\n",
       "      <td>119390.000000</td>\n",
       "      <td>119390.000000</td>\n",
       "      <td>119390.000000</td>\n",
       "      <td>103050.000000</td>\n",
       "      <td>6797.000000</td>\n",
       "      <td>119390.000000</td>\n",
       "      <td>119390.000000</td>\n",
       "      <td>119390.000000</td>\n",
       "      <td>119390.000000</td>\n",
       "    </tr>\n",
       "    <tr>\n",
       "      <th>mean</th>\n",
       "      <td>0.370416</td>\n",
       "      <td>104.011416</td>\n",
       "      <td>2016.156554</td>\n",
       "      <td>27.165173</td>\n",
       "      <td>15.798241</td>\n",
       "      <td>0.927599</td>\n",
       "      <td>2.500302</td>\n",
       "      <td>1.856403</td>\n",
       "      <td>0.103890</td>\n",
       "      <td>0.007949</td>\n",
       "      <td>0.031912</td>\n",
       "      <td>0.087118</td>\n",
       "      <td>0.137097</td>\n",
       "      <td>0.221124</td>\n",
       "      <td>86.693382</td>\n",
       "      <td>189.266735</td>\n",
       "      <td>2.321149</td>\n",
       "      <td>101.831122</td>\n",
       "      <td>0.062518</td>\n",
       "      <td>0.571363</td>\n",
       "    </tr>\n",
       "    <tr>\n",
       "      <th>std</th>\n",
       "      <td>0.482918</td>\n",
       "      <td>106.863097</td>\n",
       "      <td>0.707476</td>\n",
       "      <td>13.605138</td>\n",
       "      <td>8.780829</td>\n",
       "      <td>0.998613</td>\n",
       "      <td>1.908286</td>\n",
       "      <td>0.579261</td>\n",
       "      <td>0.398561</td>\n",
       "      <td>0.097436</td>\n",
       "      <td>0.175767</td>\n",
       "      <td>0.844336</td>\n",
       "      <td>1.497437</td>\n",
       "      <td>0.652306</td>\n",
       "      <td>110.774548</td>\n",
       "      <td>131.655015</td>\n",
       "      <td>17.594721</td>\n",
       "      <td>50.535790</td>\n",
       "      <td>0.245291</td>\n",
       "      <td>0.792798</td>\n",
       "    </tr>\n",
       "    <tr>\n",
       "      <th>min</th>\n",
       "      <td>0.000000</td>\n",
       "      <td>0.000000</td>\n",
       "      <td>2015.000000</td>\n",
       "      <td>1.000000</td>\n",
       "      <td>1.000000</td>\n",
       "      <td>0.000000</td>\n",
       "      <td>0.000000</td>\n",
       "      <td>0.000000</td>\n",
       "      <td>0.000000</td>\n",
       "      <td>0.000000</td>\n",
       "      <td>0.000000</td>\n",
       "      <td>0.000000</td>\n",
       "      <td>0.000000</td>\n",
       "      <td>0.000000</td>\n",
       "      <td>1.000000</td>\n",
       "      <td>6.000000</td>\n",
       "      <td>0.000000</td>\n",
       "      <td>-6.380000</td>\n",
       "      <td>0.000000</td>\n",
       "      <td>0.000000</td>\n",
       "    </tr>\n",
       "    <tr>\n",
       "      <th>25%</th>\n",
       "      <td>0.000000</td>\n",
       "      <td>18.000000</td>\n",
       "      <td>2016.000000</td>\n",
       "      <td>16.000000</td>\n",
       "      <td>8.000000</td>\n",
       "      <td>0.000000</td>\n",
       "      <td>1.000000</td>\n",
       "      <td>2.000000</td>\n",
       "      <td>0.000000</td>\n",
       "      <td>0.000000</td>\n",
       "      <td>0.000000</td>\n",
       "      <td>0.000000</td>\n",
       "      <td>0.000000</td>\n",
       "      <td>0.000000</td>\n",
       "      <td>9.000000</td>\n",
       "      <td>62.000000</td>\n",
       "      <td>0.000000</td>\n",
       "      <td>69.290000</td>\n",
       "      <td>0.000000</td>\n",
       "      <td>0.000000</td>\n",
       "    </tr>\n",
       "    <tr>\n",
       "      <th>50%</th>\n",
       "      <td>0.000000</td>\n",
       "      <td>69.000000</td>\n",
       "      <td>2016.000000</td>\n",
       "      <td>28.000000</td>\n",
       "      <td>16.000000</td>\n",
       "      <td>1.000000</td>\n",
       "      <td>2.000000</td>\n",
       "      <td>2.000000</td>\n",
       "      <td>0.000000</td>\n",
       "      <td>0.000000</td>\n",
       "      <td>0.000000</td>\n",
       "      <td>0.000000</td>\n",
       "      <td>0.000000</td>\n",
       "      <td>0.000000</td>\n",
       "      <td>14.000000</td>\n",
       "      <td>179.000000</td>\n",
       "      <td>0.000000</td>\n",
       "      <td>94.575000</td>\n",
       "      <td>0.000000</td>\n",
       "      <td>0.000000</td>\n",
       "    </tr>\n",
       "    <tr>\n",
       "      <th>75%</th>\n",
       "      <td>1.000000</td>\n",
       "      <td>160.000000</td>\n",
       "      <td>2017.000000</td>\n",
       "      <td>38.000000</td>\n",
       "      <td>23.000000</td>\n",
       "      <td>2.000000</td>\n",
       "      <td>3.000000</td>\n",
       "      <td>2.000000</td>\n",
       "      <td>0.000000</td>\n",
       "      <td>0.000000</td>\n",
       "      <td>0.000000</td>\n",
       "      <td>0.000000</td>\n",
       "      <td>0.000000</td>\n",
       "      <td>0.000000</td>\n",
       "      <td>229.000000</td>\n",
       "      <td>270.000000</td>\n",
       "      <td>0.000000</td>\n",
       "      <td>126.000000</td>\n",
       "      <td>0.000000</td>\n",
       "      <td>1.000000</td>\n",
       "    </tr>\n",
       "    <tr>\n",
       "      <th>max</th>\n",
       "      <td>1.000000</td>\n",
       "      <td>737.000000</td>\n",
       "      <td>2017.000000</td>\n",
       "      <td>53.000000</td>\n",
       "      <td>31.000000</td>\n",
       "      <td>19.000000</td>\n",
       "      <td>50.000000</td>\n",
       "      <td>55.000000</td>\n",
       "      <td>10.000000</td>\n",
       "      <td>10.000000</td>\n",
       "      <td>1.000000</td>\n",
       "      <td>26.000000</td>\n",
       "      <td>72.000000</td>\n",
       "      <td>21.000000</td>\n",
       "      <td>535.000000</td>\n",
       "      <td>543.000000</td>\n",
       "      <td>391.000000</td>\n",
       "      <td>5400.000000</td>\n",
       "      <td>8.000000</td>\n",
       "      <td>5.000000</td>\n",
       "    </tr>\n",
       "  </tbody>\n",
       "</table>\n",
       "</div>"
      ],
      "text/plain": [
       "         is_canceled      lead_time  arrival_date_year  \\\n",
       "count  119390.000000  119390.000000      119390.000000   \n",
       "mean        0.370416     104.011416        2016.156554   \n",
       "std         0.482918     106.863097           0.707476   \n",
       "min         0.000000       0.000000        2015.000000   \n",
       "25%         0.000000      18.000000        2016.000000   \n",
       "50%         0.000000      69.000000        2016.000000   \n",
       "75%         1.000000     160.000000        2017.000000   \n",
       "max         1.000000     737.000000        2017.000000   \n",
       "\n",
       "       arrival_date_week_number  arrival_date_day_of_month  \\\n",
       "count             119390.000000              119390.000000   \n",
       "mean                  27.165173                  15.798241   \n",
       "std                   13.605138                   8.780829   \n",
       "min                    1.000000                   1.000000   \n",
       "25%                   16.000000                   8.000000   \n",
       "50%                   28.000000                  16.000000   \n",
       "75%                   38.000000                  23.000000   \n",
       "max                   53.000000                  31.000000   \n",
       "\n",
       "       stays_in_weekend_nights  stays_in_week_nights         adults  \\\n",
       "count            119390.000000         119390.000000  119390.000000   \n",
       "mean                  0.927599              2.500302       1.856403   \n",
       "std                   0.998613              1.908286       0.579261   \n",
       "min                   0.000000              0.000000       0.000000   \n",
       "25%                   0.000000              1.000000       2.000000   \n",
       "50%                   1.000000              2.000000       2.000000   \n",
       "75%                   2.000000              3.000000       2.000000   \n",
       "max                  19.000000             50.000000      55.000000   \n",
       "\n",
       "            children         babies  is_repeated_guest  \\\n",
       "count  119386.000000  119390.000000      119390.000000   \n",
       "mean        0.103890       0.007949           0.031912   \n",
       "std         0.398561       0.097436           0.175767   \n",
       "min         0.000000       0.000000           0.000000   \n",
       "25%         0.000000       0.000000           0.000000   \n",
       "50%         0.000000       0.000000           0.000000   \n",
       "75%         0.000000       0.000000           0.000000   \n",
       "max        10.000000      10.000000           1.000000   \n",
       "\n",
       "       previous_cancellations  previous_bookings_not_canceled  \\\n",
       "count           119390.000000                   119390.000000   \n",
       "mean                 0.087118                        0.137097   \n",
       "std                  0.844336                        1.497437   \n",
       "min                  0.000000                        0.000000   \n",
       "25%                  0.000000                        0.000000   \n",
       "50%                  0.000000                        0.000000   \n",
       "75%                  0.000000                        0.000000   \n",
       "max                 26.000000                       72.000000   \n",
       "\n",
       "       booking_changes          agent      company  days_in_waiting_list  \\\n",
       "count    119390.000000  103050.000000  6797.000000         119390.000000   \n",
       "mean          0.221124      86.693382   189.266735              2.321149   \n",
       "std           0.652306     110.774548   131.655015             17.594721   \n",
       "min           0.000000       1.000000     6.000000              0.000000   \n",
       "25%           0.000000       9.000000    62.000000              0.000000   \n",
       "50%           0.000000      14.000000   179.000000              0.000000   \n",
       "75%           0.000000     229.000000   270.000000              0.000000   \n",
       "max          21.000000     535.000000   543.000000            391.000000   \n",
       "\n",
       "                 adr  required_car_parking_spaces  total_of_special_requests  \n",
       "count  119390.000000                119390.000000              119390.000000  \n",
       "mean      101.831122                     0.062518                   0.571363  \n",
       "std        50.535790                     0.245291                   0.792798  \n",
       "min        -6.380000                     0.000000                   0.000000  \n",
       "25%        69.290000                     0.000000                   0.000000  \n",
       "50%        94.575000                     0.000000                   0.000000  \n",
       "75%       126.000000                     0.000000                   1.000000  \n",
       "max      5400.000000                     8.000000                   5.000000  "
      ]
     },
     "execution_count": 4,
     "metadata": {},
     "output_type": "execute_result"
    }
   ],
   "source": [
    "# The basic descrpition of the data.\n",
    "d.describe()"
   ]
  },
  {
   "cell_type": "markdown",
   "metadata": {
    "id": "jamJ5GLCPLtV"
   },
   "source": [
    "### 2.1 Data Preprocessing"
   ]
  },
  {
   "cell_type": "markdown",
   "metadata": {
    "id": "5YZ0zyjxPLtW"
   },
   "source": [
    "Firstly, check the missing data in the data."
   ]
  },
  {
   "cell_type": "code",
   "execution_count": 5,
   "metadata": {
    "colab": {
     "base_uri": "https://localhost:8080/"
    },
    "id": "sukXO9ngPLtW",
    "outputId": "639d7af1-32c0-42bf-ec3c-af96c81bb4cb"
   },
   "outputs": [
    {
     "data": {
      "text/plain": [
       "is_canceled                            0\n",
       "hotel                                  0\n",
       "lead_time                              0\n",
       "arrival_date_year                      0\n",
       "arrival_date_month                     0\n",
       "arrival_date_week_number               0\n",
       "arrival_date_day_of_month              0\n",
       "stays_in_weekend_nights                0\n",
       "stays_in_week_nights                   0\n",
       "adults                                 0\n",
       "children                               4\n",
       "babies                                 0\n",
       "meal                                   0\n",
       "country                              488\n",
       "market_segment                         0\n",
       "distribution_channel                   0\n",
       "is_repeated_guest                      0\n",
       "previous_cancellations                 0\n",
       "previous_bookings_not_canceled         0\n",
       "reserved_room_type                     0\n",
       "assigned_room_type                     0\n",
       "booking_changes                        0\n",
       "deposit_type                           0\n",
       "agent                              16340\n",
       "company                           112593\n",
       "days_in_waiting_list                   0\n",
       "customer_type                          0\n",
       "adr                                    0\n",
       "required_car_parking_spaces            0\n",
       "total_of_special_requests              0\n",
       "dtype: int64"
      ]
     },
     "execution_count": 5,
     "metadata": {},
     "output_type": "execute_result"
    }
   ],
   "source": [
    "d.isnull().sum()"
   ]
  },
  {
   "cell_type": "markdown",
   "metadata": {
    "id": "-C0-s-rgPLtX"
   },
   "source": [
    "There are 4 variables which are `country`, `agent`, `children` and `company` have missing value. In `country`, `agent` and `company`, the Null value means the individual person with no agent and unknown country, so we replace the Null values."
   ]
  },
  {
   "cell_type": "code",
   "execution_count": 6,
   "metadata": {
    "id": "m5R13VyFPLtX"
   },
   "outputs": [],
   "source": [
    "# Changing agent value of \"Null\" to \"Individual\":\n",
    "d[\"agent\"].fillna(\"Individual\", inplace = True)\n",
    "# Changing company value of \"NULL\" to \"No Company\":\n",
    "d[\"company\"].fillna(\"No Company\", inplace = True)\n",
    "# Replacing null value for country feature with \"unknown\"\n",
    "d[\"country\"].fillna(\"unknown\", inplace=True)"
   ]
  },
  {
   "cell_type": "markdown",
   "metadata": {
    "id": "jecKCGaTPLtZ"
   },
   "source": [
    "However, except for the three variables above, we can find that variable `children` also has NA. Since there are only 4 NAs in the dataset, we delete them directly."
   ]
  },
  {
   "cell_type": "code",
   "execution_count": 7,
   "metadata": {
    "id": "FDolq2vMPLta"
   },
   "outputs": [],
   "source": [
    "d.dropna(subset=['children'], inplace=True)"
   ]
  },
  {
   "cell_type": "markdown",
   "metadata": {
    "id": "DjB-flbaPLta"
   },
   "source": [
    "Also, the variable `meal`, `market_segment` and `distribution_channel` also have **undefined** value in the dataset.\n",
    "\n",
    "For the variable meal, we can transfer it to `SC`. For the variable `market_segment` and `distribution_channel`, `market_segment` only has two **undefined** cases and distribution_channel has five **undefined** cases. Both of them account for less than 0.01% of the data, so we can also delete them directly."
   ]
  },
  {
   "cell_type": "code",
   "execution_count": 8,
   "metadata": {
    "colab": {
     "base_uri": "https://localhost:8080/",
     "height": 661
    },
    "id": "SF6hGtT8PLta",
    "outputId": "7b907c92-d0f5-4eda-8eec-2f818c883b64"
   },
   "outputs": [],
   "source": [
    "d['meal'].replace(to_replace='Undefined', value='SC', inplace=True)\n",
    "d = d.loc[d['market_segment']!='Undefined']\n",
    "d = d.loc[d['distribution_channel']!='Undefined']"
   ]
  },
  {
   "cell_type": "markdown",
   "metadata": {
    "id": "H2VIztvuPLtb"
   },
   "source": [
    "Apart from the missing data above, 180 rows contain entries with 0 adult, 0 children and 0 baby. Because the three variables are impossible to be 0 at the same case, the row need to be deleted from the original data."
   ]
  },
  {
   "cell_type": "code",
   "execution_count": 9,
   "metadata": {
    "id": "_56jUZzaPLtb"
   },
   "outputs": [],
   "source": [
    "# rows contain entries with 0 adult, 0 children and 0 baby\n",
    "zero_custom = (d.adults ==0)&(d.children ==0)&(d.babies ==0)\n",
    "# Delete the rows\n",
    "d = d[~zero_custom]"
   ]
  },
  {
   "cell_type": "code",
   "execution_count": 10,
   "metadata": {
    "colab": {
     "base_uri": "https://localhost:8080/"
    },
    "id": "V2pRBsPtPLtc",
    "outputId": "47963f09-2f8d-48ec-d4e8-929faac66f9d",
    "scrolled": true
   },
   "outputs": [
    {
     "data": {
      "text/plain": [
       "0"
      ]
     },
     "execution_count": 10,
     "metadata": {},
     "output_type": "execute_result"
    }
   ],
   "source": [
    "# Checking that no missing values remain:\n",
    "d.isnull().sum().sum()"
   ]
  },
  {
   "cell_type": "markdown",
   "metadata": {
    "id": "XOmdCpIpPLtd"
   },
   "source": [
    "Then we check for duplicates. Our dataset contains some duplicates. But it is possible that multiple booking with the same features appears on the same day. We can not confirm that those are true duplicates and we will keep them in our dataset."
   ]
  },
  {
   "cell_type": "code",
   "execution_count": 11,
   "metadata": {
    "colab": {
     "base_uri": "https://localhost:8080/"
    },
    "id": "EUvAwY8NPLtd",
    "outputId": "f90b3132-d809-4e84-a44a-f170af6cc7ff"
   },
   "outputs": [
    {
     "data": {
      "text/plain": [
       "32238"
      ]
     },
     "execution_count": 11,
     "metadata": {},
     "output_type": "execute_result"
    }
   ],
   "source": [
    "d.duplicated().sum()"
   ]
  },
  {
   "cell_type": "markdown",
   "metadata": {
    "id": "_565FQaTPLtd"
   },
   "source": [
    "Finally, detect the extreme values. Beacuse only numerical variables have the boxplot, we should distingush the categorical variables and numerical variables. Finally, we can get 15 categorical variables and 14 numerical variables."
   ]
  },
  {
   "cell_type": "code",
   "execution_count": 12,
   "metadata": {
    "id": "XnDWuFUAPLte"
   },
   "outputs": [],
   "source": [
    "# separate type integer/float and type object\n",
    "obj_cols =['arrival_date_year', 'arrival_date_week_number','arrival_date_day_of_month','hotel','arrival_date_month','meal','market_segment','distribution_channel',\n",
    "'is_repeated_guest','reserved_room_type','assigned_room_type','deposit_type','agent','company','country','customer_type']\n",
    "num_cols = ['lead_time','stays_in_weekend_nights','stays_in_week_nights','adults','children','babies','previous_cancellations','previous_bookings_not_canceled','booking_changes','days_in_waiting_list','adr','required_car_parking_spaces','total_of_special_requests']"
   ]
  },
  {
   "cell_type": "code",
   "execution_count": 13,
   "metadata": {
    "id": "jmK-RzQ97l5D"
   },
   "outputs": [],
   "source": [
    "d_num = d[num_cols]"
   ]
  },
  {
   "cell_type": "markdown",
   "metadata": {
    "id": "XMIMJyewPLtf"
   },
   "source": [
    "Some numerical variabales are discrete variables, so we pick up the variables `lead_time` and `adr` that can draw the boxplot."
   ]
  },
  {
   "cell_type": "code",
   "execution_count": 14,
   "metadata": {
    "id": "FmbNGVQZPLtf"
   },
   "outputs": [],
   "source": [
    "boxplot_cols = ['lead_time', 'adr']\n",
    "d_boxplot = d[boxplot_cols]"
   ]
  },
  {
   "cell_type": "code",
   "execution_count": 53,
   "metadata": {
    "colab": {
     "base_uri": "https://localhost:8080/",
     "height": 409
    },
    "id": "EJOuB8wcPLtf",
    "outputId": "244be952-e440-42d8-8073-1716350afec5"
   },
   "outputs": [
    {
     "data": {
      "image/png": "[encoded data removed]",
      "text/plain": [
       "<Figure size 432x432 with 2 Axes>"
      ]
     },
     "metadata": {},
     "output_type": "display_data"
    }
   ],
   "source": [
    "# creating subplot of each column\n",
    "red_circle = dict(markerfacecolor = 'red',marker = 'o',markeredgecolor = 'white')\n",
    "fig,axs = plt.subplots(1,2,figsize = (6,6))\n",
    "for i,ax in enumerate(axs.flat):\n",
    "    ax.boxplot(d_boxplot.iloc[:,i],flierprops = red_circle)\n",
    "    ax.set_title(d_boxplot.columns[i],fontsize =20,fontweight = 'bold')\n",
    "    ax.tick_params(axis = 'y',labelsize = 14)\n",
    "plt.tight_layout()"
   ]
  },
  {
   "cell_type": "markdown",
   "metadata": {
    "id": "lK4jY4m_PLtg"
   },
   "source": [
    "There is an extreme value in the boxplot `adr` variable, and we can find that the value of `adr` reaches 5400 in a case. Morever, we find that there is one `adr` less than 0. Also it is reasonable that `adr` can be negative, but it is complicated when we do standardization, therefore we just delete it. Data types can be viewed after data processing."
   ]
  },
  {
   "cell_type": "code",
   "execution_count": 16,
   "metadata": {
    "id": "OGry9Y0pPLtg"
   },
   "outputs": [],
   "source": [
    "d = d[~(d.adr ==5400)]\n",
    "d = d[~(d.adr<-1)]"
   ]
  },
  {
   "cell_type": "code",
   "execution_count": 17,
   "metadata": {
    "colab": {
     "base_uri": "https://localhost:8080/"
    },
    "id": "89rtaRgQPLtg",
    "outputId": "9c2b3f08-9eee-4c6f-98e8-baf9f50b4809"
   },
   "outputs": [
    {
     "name": "stdout",
     "output_type": "stream",
     "text": [
      "<class 'pandas.core.frame.DataFrame'>\n",
      "Int64Index: 119203 entries, 0 to 119389\n",
      "Data columns (total 30 columns):\n",
      " #   Column                          Non-Null Count   Dtype  \n",
      "---  ------                          --------------   -----  \n",
      " 0   is_canceled                     119203 non-null  int64  \n",
      " 1   hotel                           119203 non-null  object \n",
      " 2   lead_time                       119203 non-null  int64  \n",
      " 3   arrival_date_year               119203 non-null  int64  \n",
      " 4   arrival_date_month              119203 non-null  object \n",
      " 5   arrival_date_week_number        119203 non-null  int64  \n",
      " 6   arrival_date_day_of_month       119203 non-null  int64  \n",
      " 7   stays_in_weekend_nights         119203 non-null  int64  \n",
      " 8   stays_in_week_nights            119203 non-null  int64  \n",
      " 9   adults                          119203 non-null  int64  \n",
      " 10  children                        119203 non-null  float64\n",
      " 11  babies                          119203 non-null  int64  \n",
      " 12  meal                            119203 non-null  object \n",
      " 13  country                         119203 non-null  object \n",
      " 14  market_segment                  119203 non-null  object \n",
      " 15  distribution_channel            119203 non-null  object \n",
      " 16  is_repeated_guest               119203 non-null  int64  \n",
      " 17  previous_cancellations          119203 non-null  int64  \n",
      " 18  previous_bookings_not_canceled  119203 non-null  int64  \n",
      " 19  reserved_room_type              119203 non-null  object \n",
      " 20  assigned_room_type              119203 non-null  object \n",
      " 21  booking_changes                 119203 non-null  int64  \n",
      " 22  deposit_type                    119203 non-null  object \n",
      " 23  agent                           119203 non-null  object \n",
      " 24  company                         119203 non-null  object \n",
      " 25  days_in_waiting_list            119203 non-null  int64  \n",
      " 26  customer_type                   119203 non-null  object \n",
      " 27  adr                             119203 non-null  float64\n",
      " 28  required_car_parking_spaces     119203 non-null  int64  \n",
      " 29  total_of_special_requests       119203 non-null  int64  \n",
      "dtypes: float64(2), int64(16), object(12)\n",
      "memory usage: 28.2+ MB\n"
     ]
    }
   ],
   "source": [
    "d.info()"
   ]
  },
  {
   "cell_type": "markdown",
   "metadata": {
    "id": "GOI6YZeuPLth"
   },
   "source": [
    "The variable `children` should be integer variable, so we need to change the type the variable."
   ]
  },
  {
   "cell_type": "code",
   "execution_count": 18,
   "metadata": {
    "id": "2mVmfI2hPLth"
   },
   "outputs": [],
   "source": [
    "# Changing children to integer type: \n",
    "d['children'] = d['children'].astype(int)"
   ]
  },
  {
   "cell_type": "code",
   "execution_count": 19,
   "metadata": {
    "id": "NThJzftMZoyz"
   },
   "outputs": [],
   "source": [
    "d_raw = d.copy()"
   ]
  },
  {
   "cell_type": "markdown",
   "metadata": {
    "id": "w0TjSQncPLth"
   },
   "source": [
    "After solving the problems of missing data, duplication and extreme value, we should analyze the correlation between numerical variables and cancellation."
   ]
  },
  {
   "cell_type": "code",
   "execution_count": 20,
   "metadata": {
    "colab": {
     "base_uri": "https://localhost:8080/",
     "height": 801
    },
    "id": "oJ8Yr2KW7l5G",
    "outputId": "a4cb4c06-7ecb-4d6e-ff27-d68a97991831",
    "scrolled": true
   },
   "outputs": [
    {
     "data": {
      "image/png": "[encoded data removed]",
      "text/plain": [
       "<Figure size 1920x800 with 2 Axes>"
      ]
     },
     "metadata": {
      "needs_background": "light"
     },
     "output_type": "display_data"
    }
   ],
   "source": [
    "# Visualizing correlation coefficients between features and cancellation:\n",
    "plt.figure(figsize=(24,10))\n",
    "d_corr = d.copy()\n",
    "d_corr.drop(columns = obj_cols, inplace= True)\n",
    "corr = d_corr.corr()\n",
    "sns.heatmap(corr,annot = True,linewidths = 1)\n",
    "plt.show()"
   ]
  },
  {
   "cell_type": "markdown",
   "metadata": {
    "id": "yshPTROu7l5G"
   },
   "source": [
    "Since there are not variables that the correlation is larger than 0.6, we do not need to delete the variables."
   ]
  },
  {
   "cell_type": "markdown",
   "metadata": {
    "id": "kI9F6p9aPLti"
   },
   "source": [
    "- According to the graph, `lead_time` is the most highly correlated variable of the `is_canceled`. If the number of days that elapsed between the entering date of the booking into the PMS and the arrival date is larger, they will be more likely to meet unforeseen circumstances and the possibility of cancelling the booking is larger.\n",
    "- `previous_cancelations` is the second feature with the strongest positive correlation to the `is_canceled`. When the number of previous_cancelations made increases, the customers are prior to canceling the booking. However,  `previous_bookings_not_canceled` does not correlate closely with `is_canceled`.\n",
    "- `total_of_special_requests` and `required_car_parking_spaces` are variables with the strongest negative correlation to the `is_canceled`. If the guests make more interact with the hotel, they are less likely to cancel the reservation. We can conclude that the service prior to arrival is efficient to impress the customers."
   ]
  },
  {
   "cell_type": "markdown",
   "metadata": {
    "id": "O6fT0fMSZoy0"
   },
   "source": [
    "After extract all numeric variables and see their distributions, we can conclude that all numerical variables are skewed."
   ]
  },
  {
   "cell_type": "markdown",
   "metadata": {
    "id": "WQXph-YdPLtj"
   },
   "source": [
    "Visualize the number of cancelled and not cancelled by date."
   ]
  },
  {
   "cell_type": "code",
   "execution_count": 21,
   "metadata": {
    "id": "_SC9UBJ7PLtj"
   },
   "outputs": [],
   "source": [
    "# Creating the arrival date full feature: \n",
    "d_draw = d\n",
    "d_draw['exact_arrival_date'] = d['arrival_date_year'].astype(str) + \"-\" + d['arrival_date_month'].map({'January':1, 'February':2, 'March':3, 'April':4, 'May':5, 'June':6, 'July':7, 'August':8, 'September':9, 'October':10, 'November':11, 'December':12}).astype(str) + \"-\" + d['arrival_date_day_of_month'].astype(str)\n",
    "d_draw['exact_arrival_date'] = pd.to_datetime(d_draw['exact_arrival_date'], format=\"%Y-%m-%d\")"
   ]
  },
  {
   "cell_type": "code",
   "execution_count": 22,
   "metadata": {
    "colab": {
     "base_uri": "https://localhost:8080/",
     "height": 341
    },
    "id": "urTpSamWPLtj",
    "outputId": "0f5baf87-5fa4-4941-c6d4-c6594849a6ac"
   },
   "outputs": [
    {
     "data": {
      "text/plain": [
       "Text(0.5, 1.0, 'Number of Bookings by Month')"
      ]
     },
     "execution_count": 22,
     "metadata": {},
     "output_type": "execute_result"
    },
    {
     "data": {
      "image/png": "[encoded data removed]",
      "text/plain": [
       "<Figure size 1280x320 with 1 Axes>"
      ]
     },
     "metadata": {
      "needs_background": "light"
     },
     "output_type": "display_data"
    }
   ],
   "source": [
    "# create a dataframe of cancelled orders\n",
    "canceled = d_draw[d_draw['is_canceled']==1][['exact_arrival_date']]\n",
    "canceled.set_index('exact_arrival_date',inplace = True)\n",
    "canceled['count'] =1\n",
    "# aggregated by month\n",
    "canceled = canceled.resample('M').sum()\n",
    "# create a dataframe of not canceled orders\n",
    "not_canceled = d_draw[d_draw['is_canceled']==0][['exact_arrival_date']]\n",
    "not_canceled.set_index('exact_arrival_date',inplace = True)\n",
    "not_canceled['count'] =1\n",
    "# aggregated by month\n",
    "not_canceled = not_canceled.resample('M').sum()\n",
    "#visualize the number of canceled and not canceled bookings by date:\n",
    "plt.figure(figsize=(16,4))\n",
    "plt.bar(canceled.index,canceled['count'], width = 8, label = 'canceled')\n",
    "plt.bar(canceled.index,not_canceled['count'],bottom  = canceled['count'], width = 8, label = 'not canceled')\n",
    "sns.lineplot(x=canceled.index,y=canceled['count'])\n",
    "sns.lineplot(x=not_canceled.index,y=not_canceled['count'])\n",
    "\n",
    "plt.legend()\n",
    "plt.ylabel('Number of Bookings')\n",
    "plt.xlabel('Arrival Date')\n",
    "plt.title('Number of Bookings by Month')"
   ]
  },
  {
   "cell_type": "markdown",
   "metadata": {
    "id": "sRlvbE-_PLtk"
   },
   "source": [
    "- The number of cancelled orders and not cancelled orders has similar trends.\n",
    "- In the spring, the number of cancelled orders and not cancelled orders will climb up. More orders are canceled between April and July and the curve drops in summer. Then, the curve continues to increase and reaches the apex between October and November. After the  peak, the curve declines until the next spring comes."
   ]
  },
  {
   "cell_type": "markdown",
   "metadata": {
    "id": "F3JE7LALPLtl"
   },
   "source": [
    "Morever, we can compare the cancelled orders between two hotels."
   ]
  },
  {
   "cell_type": "code",
   "execution_count": 23,
   "metadata": {
    "colab": {
     "base_uri": "https://localhost:8080/",
     "height": 408
    },
    "id": "moZUwJLrZoy1",
    "outputId": "543a3ff8-9855-42b4-f729-721f22335239"
   },
   "outputs": [
    {
     "data": {
      "text/plain": [
       "Text(0, 0.5, 'Percentage of Bookings Canceled')"
      ]
     },
     "execution_count": 23,
     "metadata": {},
     "output_type": "execute_result"
    },
    {
     "data": {
      "image/png": "[encoded data removed]",
      "text/plain": [
       "<Figure size 1600x400 with 1 Axes>"
      ]
     },
     "metadata": {
      "needs_background": "light"
     },
     "output_type": "display_data"
    }
   ],
   "source": [
    "## Check the cancellation percentage with the Month for each hotel\n",
    "import seaborn as sns\n",
    "d_month_order = d\n",
    "d_month_order['arrival_date_month'] = pd.Categorical(d['arrival_date_month'],\n",
    "                                   categories=[\"January\", \"February\", \"March\", \"April\", \"May\", \"June\", \"July\", \"August\", \"September\", \"October\", \"November\", \"December\"],\n",
    "                                   ordered=True)\n",
    "plt.figure(figsize=(20,5)) \n",
    "plt.title(\"Percentage of cancellation for Each Hotel\", fontsize = 20)\n",
    "sns.lineplot(data = d_month_order, x = \"arrival_date_month\", y = \"is_canceled\", hue = \"hotel\")\n",
    "plt.ylabel(\"Percentage of Bookings Canceled\", fontsize = 12)\n"
   ]
  },
  {
   "cell_type": "markdown",
   "metadata": {
    "id": "MNYCQggmPLtn"
   },
   "source": [
    "It shows that the city hotel has more cancellation rate compared with the Resort Hotel. For City Hotel, the cancellation rate reaches a peak from April to June, during the spring period. For Resort Hotel, the peak arrives from June to August, during the summer period. Therefore, we need to take the influence of the month into consideration."
   ]
  },
  {
   "cell_type": "markdown",
   "metadata": {
    "id": "SyGY7tb1PLto"
   },
   "source": [
    "### 2.2 Feature Engineering"
   ]
  },
  {
   "cell_type": "markdown",
   "metadata": {
    "id": "FdoVtKAWZoy2"
   },
   "source": [
    "### 2.21 The relationship between categorical variables and cancellation rates"
   ]
  },
  {
   "cell_type": "markdown",
   "metadata": {
    "id": "y2cCWzhlZoy2"
   },
   "source": [
    "We want to use images to reflect the relationship between different categorical variables and cancellation rates, and picking out the appropriate variables as dummy variables."
   ]
  },
  {
   "cell_type": "code",
   "execution_count": 24,
   "metadata": {
    "colab": {
     "base_uri": "https://localhost:8080/",
     "height": 450
    },
    "id": "o6eZRP8ISLuo",
    "outputId": "3717a7bd-51b7-4082-94da-27b2edc7b37f"
   },
   "outputs": [
    {
     "data": {
      "image/png": "[encoded data removed]",
      "text/plain": [
       "<Figure size 400x240 with 1 Axes>"
      ]
     },
     "metadata": {
      "needs_background": "light"
     },
     "output_type": "display_data"
    }
   ],
   "source": [
    "## Check the cancellation percentage with the meal\n",
    "plt.figure(figsize = (5,3))\n",
    "plt.title(\"Percentage of cancellation for Each meal\", fontsize = 20)\n",
    "sns.barplot(data = d, x = \"meal\", y = \"is_canceled\", hue = \"hotel\")\n",
    "plt.ylabel(\"Percentage of Bookings Canceled\", fontsize = 10)\n",
    "plt.show()"
   ]
  },
  {
   "cell_type": "markdown",
   "metadata": {
    "id": "EBofC3nASQmp"
   },
   "source": [
    "Here we can see different meal types have different cancellation percentages, so this feature variable needs to be taken into consideration.\n",
    "\n",
    "According to the graph below, the guests from Senegal, Honduras, Benin, Saudi Arabia, Tajikistan, United Arab Emirates, etc. Some European and African countries have lower cancelation rates compared with other distant countries. Note that Because both hotels are located in Portugal, it seems that countries that are closer to the hotels are not prior to canceling the hotels."
   ]
  },
  {
   "cell_type": "code",
   "execution_count": 25,
   "metadata": {
    "colab": {
     "base_uri": "https://localhost:8080/",
     "height": 542
    },
    "id": "HYJ3FGxm7l5c",
    "outputId": "a216c1ea-591d-4a64-c9c3-2db084d5d8e3"
   },
   "outputs": [
    {
     "data": {
      "application/vnd.plotly.v1+json": {
       "config": {
        "plotlyServerURL": "https://plot.ly"
       },
       "data": [
        {
         "coloraxis": "coloraxis",
         "geo": "geo",
         "hovertemplate": "<b>%{hovertext}</b><br><br>country=%{location}<br>percentage of cancelled=%{z}<extra></extra>",
         "hovertext": [
          "ABW",
          "AGO",
          "AIA",
          "ALB",
          "AND",
          "ARE",
          "ARG",
          "ARM",
          "ASM",
          "ATA",
          "ATF",
          "AUS",
          "AUT",
          "AZE",
          "BDI",
          "BEL",
          "BEN",
          "BFA",
          "BGD",
          "BGR",
          "BHR",
          "BHS",
          "BIH",
          "BLR",
          "BOL",
          "BRA",
          "BRB",
          "BWA",
          "CAF",
          "CHE",
          "CHL",
          "CHN",
          "CIV",
          "CMR",
          "CN",
          "COL",
          "COM",
          "CPV",
          "CRI",
          "CUB",
          "CYM",
          "CYP",
          "CZE",
          "DEU",
          "DJI",
          "DMA",
          "DNK",
          "DOM",
          "DZA",
          "ECU",
          "EGY",
          "ESP",
          "EST",
          "ETH",
          "FIN",
          "FJI",
          "FRA",
          "FRO",
          "GAB",
          "GBR",
          "GEO",
          "GGY",
          "GHA",
          "GIB",
          "GLP",
          "GNB",
          "GRC",
          "GTM",
          "GUY",
          "HKG",
          "HND",
          "HRV",
          "HUN",
          "IDN",
          "IMN",
          "IND",
          "IRL",
          "IRN",
          "IRQ",
          "ISL",
          "ISR",
          "ITA",
          "JAM",
          "JEY",
          "JOR",
          "JPN",
          "KAZ",
          "KEN",
          "KHM",
          "KIR",
          "KNA",
          "KOR",
          "KWT",
          "LAO",
          "LBN",
          "LBY",
          "LCA",
          "LIE",
          "LKA",
          "LTU",
          "LUX",
          "LVA",
          "MAC",
          "MAR",
          "MCO",
          "MDG",
          "MDV",
          "MEX",
          "MKD",
          "MLI",
          "MLT",
          "MMR",
          "MNE",
          "MOZ",
          "MRT",
          "MUS",
          "MWI",
          "MYS",
          "MYT",
          "NAM",
          "NCL",
          "NGA",
          "NIC",
          "NLD",
          "NOR",
          "NPL",
          "NZL",
          "OMN",
          "PAK",
          "PAN",
          "PER",
          "PHL",
          "PLW",
          "POL",
          "PRI",
          "PRT",
          "PRY",
          "PYF",
          "QAT",
          "ROU",
          "RUS",
          "RWA",
          "SAU",
          "SDN",
          "SEN",
          "SGP",
          "SLE",
          "SLV",
          "SMR",
          "SRB",
          "STP",
          "SUR",
          "SVK",
          "SVN",
          "SWE",
          "SYC",
          "SYR",
          "TGO",
          "THA",
          "TJK",
          "TMP",
          "TUN",
          "TUR",
          "TWN",
          "TZA",
          "UGA",
          "UKR",
          "UMI",
          "URY",
          "USA",
          "UZB",
          "VEN",
          "VGB",
          "VNM",
          "ZAF",
          "ZMB",
          "ZWE",
          "unknown"
         ],
         "locations": [
          "ABW",
          "AGO",
          "AIA",
          "ALB",
          "AND",
          "ARE",
          "ARG",
          "ARM",
          "ASM",
          "ATA",
          "ATF",
          "AUS",
          "AUT",
          "AZE",
          "BDI",
          "BEL",
          "BEN",
          "BFA",
          "BGD",
          "BGR",
          "BHR",
          "BHS",
          "BIH",
          "BLR",
          "BOL",
          "BRA",
          "BRB",
          "BWA",
          "CAF",
          "CHE",
          "CHL",
          "CHN",
          "CIV",
          "CMR",
          "CN",
          "COL",
          "COM",
          "CPV",
          "CRI",
          "CUB",
          "CYM",
          "CYP",
          "CZE",
          "DEU",
          "DJI",
          "DMA",
          "DNK",
          "DOM",
          "DZA",
          "ECU",
          "EGY",
          "ESP",
          "EST",
          "ETH",
          "FIN",
          "FJI",
          "FRA",
          "FRO",
          "GAB",
          "GBR",
          "GEO",
          "GGY",
          "GHA",
          "GIB",
          "GLP",
          "GNB",
          "GRC",
          "GTM",
          "GUY",
          "HKG",
          "HND",
          "HRV",
          "HUN",
          "IDN",
          "IMN",
          "IND",
          "IRL",
          "IRN",
          "IRQ",
          "ISL",
          "ISR",
          "ITA",
          "JAM",
          "JEY",
          "JOR",
          "JPN",
          "KAZ",
          "KEN",
          "KHM",
          "KIR",
          "KNA",
          "KOR",
          "KWT",
          "LAO",
          "LBN",
          "LBY",
          "LCA",
          "LIE",
          "LKA",
          "LTU",
          "LUX",
          "LVA",
          "MAC",
          "MAR",
          "MCO",
          "MDG",
          "MDV",
          "MEX",
          "MKD",
          "MLI",
          "MLT",
          "MMR",
          "MNE",
          "MOZ",
          "MRT",
          "MUS",
          "MWI",
          "MYS",
          "MYT",
          "NAM",
          "NCL",
          "NGA",
          "NIC",
          "NLD",
          "NOR",
          "NPL",
          "NZL",
          "OMN",
          "PAK",
          "PAN",
          "PER",
          "PHL",
          "PLW",
          "POL",
          "PRI",
          "PRT",
          "PRY",
          "PYF",
          "QAT",
          "ROU",
          "RUS",
          "RWA",
          "SAU",
          "SDN",
          "SEN",
          "SGP",
          "SLE",
          "SLV",
          "SMR",
          "SRB",
          "STP",
          "SUR",
          "SVK",
          "SVN",
          "SWE",
          "SYC",
          "SYR",
          "TGO",
          "THA",
          "TJK",
          "TMP",
          "TUN",
          "TUR",
          "TWN",
          "TZA",
          "UGA",
          "UKR",
          "UMI",
          "URY",
          "USA",
          "UZB",
          "VEN",
          "VGB",
          "VNM",
          "ZAF",
          "ZMB",
          "ZWE",
          "unknown"
         ],
         "name": "",
         "type": "choropleth",
         "z": [
          0,
          0.5662983425414365,
          0,
          0.16666666666666666,
          0.7142857142857143,
          0.8431372549019608,
          0.2523364485981308,
          0.25,
          0,
          0,
          0,
          0.2511737089201878,
          0.18210609659540775,
          0.5294117647058824,
          0,
          0.20239111870196413,
          1,
          0,
          0.75,
          0.16,
          0.8,
          0,
          0.23076923076923078,
          0.34615384615384615,
          0,
          0.37353735373537356,
          0,
          0,
          0,
          0.24797219003476245,
          0.24615384615384617,
          0.4624624624624625,
          0.3333333333333333,
          0,
          0.19859265050820954,
          0.323943661971831,
          0,
          0.5,
          0.05263157894736842,
          0,
          0,
          0.21568627450980393,
          0.21637426900584794,
          0.16719286204529857,
          0,
          0,
          0.25057471264367814,
          0.5714285714285714,
          0.20388349514563106,
          0.2962962962962963,
          0.34375,
          0.2543224299065421,
          0.21686746987951808,
          0.3333333333333333,
          0.1547085201793722,
          1,
          0.18584751466205174,
          0.8,
          0.5,
          0.20232692466375113,
          0.6818181818181818,
          1,
          0.5,
          0.6111111111111112,
          1,
          0.1111111111111111,
          0.2734375,
          0,
          0,
          0.896551724137931,
          1,
          0.25,
          0.3347826086956522,
          0.6857142857142857,
          1,
          0.23178807947019867,
          0.24659158269116777,
          0.2804878048780488,
          0,
          0.07017543859649122,
          0.2526158445440957,
          0.3544270140919968,
          0,
          1,
          0.14285714285714285,
          0.14213197969543148,
          0.2631578947368421,
          0.3333333333333333,
          1,
          0,
          0,
          0.41353383458646614,
          0.375,
          0,
          0.2903225806451613,
          0,
          0,
          0.3333333333333333,
          0,
          0.08641975308641975,
          0.3811188811188811,
          0.16363636363636364,
          0.9375,
          0.42084942084942084,
          0.25,
          0,
          0.75,
          0.11764705882352941,
          0.2,
          0,
          0.2777777777777778,
          0,
          0.4,
          0.2835820895522388,
          0,
          0.14285714285714285,
          0,
          0.10714285714285714,
          1,
          0,
          0,
          0.6176470588235294,
          1,
          0.1840228245363766,
          0.2981878088962109,
          0,
          0.08108108108108109,
          0.2222222222222222,
          0.6428571428571429,
          0,
          0.20689655172413793,
          0.625,
          0,
          0.23420479302832245,
          0.16666666666666666,
          0.5672999566804876,
          0,
          0,
          0.7333333333333333,
          0.268,
          0.37936507936507935,
          0,
          0.6875,
          0,
          0.7272727272727273,
          0.42105263157894735,
          0,
          0,
          0,
          0.0297029702970297,
          0,
          0,
          0.36923076923076925,
          0.26785714285714285,
          0.22254901960784312,
          0.5,
          0,
          0,
          0.3050847457627119,
          0.8888888888888888,
          0.3333333333333333,
          0.48717948717948717,
          0.4112903225806452,
          0.27450980392156865,
          0.6,
          0,
          0.29411764705882354,
          1,
          0.28125,
          0.23936932632584806,
          0.5,
          0.46153846153846156,
          1,
          0.25,
          0.3875,
          0.5,
          0.5,
          0.1192468619246862
         ]
        }
       ],
       "layout": {
        "coloraxis": {
         "colorbar": {
          "title": {
           "text": "percentage of cancelled"
          }
         },
         "colorscale": [
          [
           0,
           "rgb(12,51,131)"
          ],
          [
           0.25,
           "rgb(10,136,186)"
          ],
          [
           0.5,
           "rgb(242,211,56)"
          ],
          [
           0.75,
           "rgb(242,143,56)"
          ],
          [
           1,
           "rgb(217,30,30)"
          ]
         ]
        },
        "geo": {
         "center": {},
         "domain": {
          "x": [
           0,
           1
          ],
          "y": [
           0,
           1
          ]
         }
        },
        "legend": {
         "tracegroupgap": 0
        },
        "margin": {
         "t": 60
        },
        "template": {
         "data": {
          "bar": [
           {
            "error_x": {
             "color": "#2a3f5f"
            },
            "error_y": {
             "color": "#2a3f5f"
            },
            "marker": {
             "line": {
              "color": "#E5ECF6",
              "width": 0.5
             },
             "pattern": {
              "fillmode": "overlay",
              "size": 10,
              "solidity": 0.2
             }
            },
            "type": "bar"
           }
          ],
          "barpolar": [
           {
            "marker": {
             "line": {
              "color": "#E5ECF6",
              "width": 0.5
             },
             "pattern": {
              "fillmode": "overlay",
              "size": 10,
              "solidity": 0.2
             }
            },
            "type": "barpolar"
           }
          ],
          "carpet": [
           {
            "aaxis": {
             "endlinecolor": "#2a3f5f",
             "gridcolor": "white",
             "linecolor": "white",
             "minorgridcolor": "white",
             "startlinecolor": "#2a3f5f"
            },
            "baxis": {
             "endlinecolor": "#2a3f5f",
             "gridcolor": "white",
             "linecolor": "white",
             "minorgridcolor": "white",
             "startlinecolor": "#2a3f5f"
            },
            "type": "carpet"
           }
          ],
          "choropleth": [
           {
            "colorbar": {
             "outlinewidth": 0,
             "ticks": ""
            },
            "type": "choropleth"
           }
          ],
          "contour": [
           {
            "colorbar": {
             "outlinewidth": 0,
             "ticks": ""
            },
            "colorscale": [
             [
              0,
              "#0d0887"
             ],
             [
              0.1111111111111111,
              "#46039f"
             ],
             [
              0.2222222222222222,
              "#7201a8"
             ],
             [
              0.3333333333333333,
              "#9c179e"
             ],
             [
              0.4444444444444444,
              "#bd3786"
             ],
             [
              0.5555555555555556,
              "#d8576b"
             ],
             [
              0.6666666666666666,
              "#ed7953"
             ],
             [
              0.7777777777777778,
              "#fb9f3a"
             ],
             [
              0.8888888888888888,
              "#fdca26"
             ],
             [
              1,
              "#f0f921"
             ]
            ],
            "type": "contour"
           }
          ],
          "contourcarpet": [
           {
            "colorbar": {
             "outlinewidth": 0,
             "ticks": ""
            },
            "type": "contourcarpet"
           }
          ],
          "heatmap": [
           {
            "colorbar": {
             "outlinewidth": 0,
             "ticks": ""
            },
            "colorscale": [
             [
              0,
              "#0d0887"
             ],
             [
              0.1111111111111111,
              "#46039f"
             ],
             [
              0.2222222222222222,
              "#7201a8"
             ],
             [
              0.3333333333333333,
              "#9c179e"
             ],
             [
              0.4444444444444444,
              "#bd3786"
             ],
             [
              0.5555555555555556,
              "#d8576b"
             ],
             [
              0.6666666666666666,
              "#ed7953"
             ],
             [
              0.7777777777777778,
              "#fb9f3a"
             ],
             [
              0.8888888888888888,
              "#fdca26"
             ],
             [
              1,
              "#f0f921"
             ]
            ],
            "type": "heatmap"
           }
          ],
          "heatmapgl": [
           {
            "colorbar": {
             "outlinewidth": 0,
             "ticks": ""
            },
            "colorscale": [
             [
              0,
              "#0d0887"
             ],
             [
              0.1111111111111111,
              "#46039f"
             ],
             [
              0.2222222222222222,
              "#7201a8"
             ],
             [
              0.3333333333333333,
              "#9c179e"
             ],
             [
              0.4444444444444444,
              "#bd3786"
             ],
             [
              0.5555555555555556,
              "#d8576b"
             ],
             [
              0.6666666666666666,
              "#ed7953"
             ],
             [
              0.7777777777777778,
              "#fb9f3a"
             ],
             [
              0.8888888888888888,
              "#fdca26"
             ],
             [
              1,
              "#f0f921"
             ]
            ],
            "type": "heatmapgl"
           }
          ],
          "histogram": [
           {
            "marker": {
             "pattern": {
              "fillmode": "overlay",
              "size": 10,
              "solidity": 0.2
             }
            },
            "type": "histogram"
           }
          ],
          "histogram2d": [
           {
            "colorbar": {
             "outlinewidth": 0,
             "ticks": ""
            },
            "colorscale": [
             [
              0,
              "#0d0887"
             ],
             [
              0.1111111111111111,
              "#46039f"
             ],
             [
              0.2222222222222222,
              "#7201a8"
             ],
             [
              0.3333333333333333,
              "#9c179e"
             ],
             [
              0.4444444444444444,
              "#bd3786"
             ],
             [
              0.5555555555555556,
              "#d8576b"
             ],
             [
              0.6666666666666666,
              "#ed7953"
             ],
             [
              0.7777777777777778,
              "#fb9f3a"
             ],
             [
              0.8888888888888888,
              "#fdca26"
             ],
             [
              1,
              "#f0f921"
             ]
            ],
            "type": "histogram2d"
           }
          ],
          "histogram2dcontour": [
           {
            "colorbar": {
             "outlinewidth": 0,
             "ticks": ""
            },
            "colorscale": [
             [
              0,
              "#0d0887"
             ],
             [
              0.1111111111111111,
              "#46039f"
             ],
             [
              0.2222222222222222,
              "#7201a8"
             ],
             [
              0.3333333333333333,
              "#9c179e"
             ],
             [
              0.4444444444444444,
              "#bd3786"
             ],
             [
              0.5555555555555556,
              "#d8576b"
             ],
             [
              0.6666666666666666,
              "#ed7953"
             ],
             [
              0.7777777777777778,
              "#fb9f3a"
             ],
             [
              0.8888888888888888,
              "#fdca26"
             ],
             [
              1,
              "#f0f921"
             ]
            ],
            "type": "histogram2dcontour"
           }
          ],
          "mesh3d": [
           {
            "colorbar": {
             "outlinewidth": 0,
             "ticks": ""
            },
            "type": "mesh3d"
           }
          ],
          "parcoords": [
           {
            "line": {
             "colorbar": {
              "outlinewidth": 0,
              "ticks": ""
             }
            },
            "type": "parcoords"
           }
          ],
          "pie": [
           {
            "automargin": true,
            "type": "pie"
           }
          ],
          "scatter": [
           {
            "fillpattern": {
             "fillmode": "overlay",
             "size": 10,
             "solidity": 0.2
            },
            "type": "scatter"
           }
          ],
          "scatter3d": [
           {
            "line": {
             "colorbar": {
              "outlinewidth": 0,
              "ticks": ""
             }
            },
            "marker": {
             "colorbar": {
              "outlinewidth": 0,
              "ticks": ""
             }
            },
            "type": "scatter3d"
           }
          ],
          "scattercarpet": [
           {
            "marker": {
             "colorbar": {
              "outlinewidth": 0,
              "ticks": ""
             }
            },
            "type": "scattercarpet"
           }
          ],
          "scattergeo": [
           {
            "marker": {
             "colorbar": {
              "outlinewidth": 0,
              "ticks": ""
             }
            },
            "type": "scattergeo"
           }
          ],
          "scattergl": [
           {
            "marker": {
             "colorbar": {
              "outlinewidth": 0,
              "ticks": ""
             }
            },
            "type": "scattergl"
           }
          ],
          "scattermapbox": [
           {
            "marker": {
             "colorbar": {
              "outlinewidth": 0,
              "ticks": ""
             }
            },
            "type": "scattermapbox"
           }
          ],
          "scatterpolar": [
           {
            "marker": {
             "colorbar": {
              "outlinewidth": 0,
              "ticks": ""
             }
            },
            "type": "scatterpolar"
           }
          ],
          "scatterpolargl": [
           {
            "marker": {
             "colorbar": {
              "outlinewidth": 0,
              "ticks": ""
             }
            },
            "type": "scatterpolargl"
           }
          ],
          "scatterternary": [
           {
            "marker": {
             "colorbar": {
              "outlinewidth": 0,
              "ticks": ""
             }
            },
            "type": "scatterternary"
           }
          ],
          "surface": [
           {
            "colorbar": {
             "outlinewidth": 0,
             "ticks": ""
            },
            "colorscale": [
             [
              0,
              "#0d0887"
             ],
             [
              0.1111111111111111,
              "#46039f"
             ],
             [
              0.2222222222222222,
              "#7201a8"
             ],
             [
              0.3333333333333333,
              "#9c179e"
             ],
             [
              0.4444444444444444,
              "#bd3786"
             ],
             [
              0.5555555555555556,
              "#d8576b"
             ],
             [
              0.6666666666666666,
              "#ed7953"
             ],
             [
              0.7777777777777778,
              "#fb9f3a"
             ],
             [
              0.8888888888888888,
              "#fdca26"
             ],
             [
              1,
              "#f0f921"
             ]
            ],
            "type": "surface"
           }
          ],
          "table": [
           {
            "cells": {
             "fill": {
              "color": "#EBF0F8"
             },
             "line": {
              "color": "white"
             }
            },
            "header": {
             "fill": {
              "color": "#C8D4E3"
             },
             "line": {
              "color": "white"
             }
            },
            "type": "table"
           }
          ]
         },
         "layout": {
          "annotationdefaults": {
           "arrowcolor": "#2a3f5f",
           "arrowhead": 0,
           "arrowwidth": 1
          },
          "autotypenumbers": "strict",
          "coloraxis": {
           "colorbar": {
            "outlinewidth": 0,
            "ticks": ""
           }
          },
          "colorscale": {
           "diverging": [
            [
             0,
             "#8e0152"
            ],
            [
             0.1,
             "#c51b7d"
            ],
            [
             0.2,
             "#de77ae"
            ],
            [
             0.3,
             "#f1b6da"
            ],
            [
             0.4,
             "#fde0ef"
            ],
            [
             0.5,
             "#f7f7f7"
            ],
            [
             0.6,
             "#e6f5d0"
            ],
            [
             0.7,
             "#b8e186"
            ],
            [
             0.8,
             "#7fbc41"
            ],
            [
             0.9,
             "#4d9221"
            ],
            [
             1,
             "#276419"
            ]
           ],
           "sequential": [
            [
             0,
             "#0d0887"
            ],
            [
             0.1111111111111111,
             "#46039f"
            ],
            [
             0.2222222222222222,
             "#7201a8"
            ],
            [
             0.3333333333333333,
             "#9c179e"
            ],
            [
             0.4444444444444444,
             "#bd3786"
            ],
            [
             0.5555555555555556,
             "#d8576b"
            ],
            [
             0.6666666666666666,
             "#ed7953"
            ],
            [
             0.7777777777777778,
             "#fb9f3a"
            ],
            [
             0.8888888888888888,
             "#fdca26"
            ],
            [
             1,
             "#f0f921"
            ]
           ],
           "sequentialminus": [
            [
             0,
             "#0d0887"
            ],
            [
             0.1111111111111111,
             "#46039f"
            ],
            [
             0.2222222222222222,
             "#7201a8"
            ],
            [
             0.3333333333333333,
             "#9c179e"
            ],
            [
             0.4444444444444444,
             "#bd3786"
            ],
            [
             0.5555555555555556,
             "#d8576b"
            ],
            [
             0.6666666666666666,
             "#ed7953"
            ],
            [
             0.7777777777777778,
             "#fb9f3a"
            ],
            [
             0.8888888888888888,
             "#fdca26"
            ],
            [
             1,
             "#f0f921"
            ]
           ]
          },
          "colorway": [
           "#636efa",
           "#EF553B",
           "#00cc96",
           "#ab63fa",
           "#FFA15A",
           "#19d3f3",
           "#FF6692",
           "#B6E880",
           "#FF97FF",
           "#FECB52"
          ],
          "font": {
           "color": "#2a3f5f"
          },
          "geo": {
           "bgcolor": "white",
           "lakecolor": "white",
           "landcolor": "#E5ECF6",
           "showlakes": true,
           "showland": true,
           "subunitcolor": "white"
          },
          "hoverlabel": {
           "align": "left"
          },
          "hovermode": "closest",
          "mapbox": {
           "style": "light"
          },
          "paper_bgcolor": "white",
          "plot_bgcolor": "#E5ECF6",
          "polar": {
           "angularaxis": {
            "gridcolor": "white",
            "linecolor": "white",
            "ticks": ""
           },
           "bgcolor": "#E5ECF6",
           "radialaxis": {
            "gridcolor": "white",
            "linecolor": "white",
            "ticks": ""
           }
          },
          "scene": {
           "xaxis": {
            "backgroundcolor": "#E5ECF6",
            "gridcolor": "white",
            "gridwidth": 2,
            "linecolor": "white",
            "showbackground": true,
            "ticks": "",
            "zerolinecolor": "white"
           },
           "yaxis": {
            "backgroundcolor": "#E5ECF6",
            "gridcolor": "white",
            "gridwidth": 2,
            "linecolor": "white",
            "showbackground": true,
            "ticks": "",
            "zerolinecolor": "white"
           },
           "zaxis": {
            "backgroundcolor": "#E5ECF6",
            "gridcolor": "white",
            "gridwidth": 2,
            "linecolor": "white",
            "showbackground": true,
            "ticks": "",
            "zerolinecolor": "white"
           }
          },
          "shapedefaults": {
           "line": {
            "color": "#2a3f5f"
           }
          },
          "ternary": {
           "aaxis": {
            "gridcolor": "white",
            "linecolor": "white",
            "ticks": ""
           },
           "baxis": {
            "gridcolor": "white",
            "linecolor": "white",
            "ticks": ""
           },
           "bgcolor": "#E5ECF6",
           "caxis": {
            "gridcolor": "white",
            "linecolor": "white",
            "ticks": ""
           }
          },
          "title": {
           "x": 0.05
          },
          "xaxis": {
           "automargin": true,
           "gridcolor": "white",
           "linecolor": "white",
           "ticks": "",
           "title": {
            "standoff": 15
           },
           "zerolinecolor": "white",
           "zerolinewidth": 2
          },
          "yaxis": {
           "automargin": true,
           "gridcolor": "white",
           "linecolor": "white",
           "ticks": "",
           "title": {
            "standoff": 15
           },
           "zerolinecolor": "white",
           "zerolinewidth": 2
          }
         }
        }
       }
      }
     },
     "metadata": {},
     "output_type": "display_data"
    },
    {
     "data": {
      "text/plain": [
       "<Figure size 720x576 with 0 Axes>"
      ]
     },
     "metadata": {},
     "output_type": "display_data"
    }
   ],
   "source": [
    "plt.style.use('fivethirtyeight')\n",
    "%matplotlib inline\n",
    "plt.figure(figsize = (10,8))\n",
    "pd.set_option('display.max_columns', 32)\n",
    "\n",
    "# create the map for the customers from different countries.\n",
    "# calculate the percentage of cancellation among different countries\n",
    "country_customers = (d.groupby(['country'])['is_canceled'].sum()/(d.groupby(['country'])['is_canceled'].count())).reset_index()\n",
    "country_customers.columns = ['country','percentage of cancelled']\n",
    "basemap = folium.Map()\n",
    "customer_map = px.choropleth(country_customers,\n",
    "                            locations = country_customers['country'],\n",
    "                            color = country_customers['percentage of cancelled'],\n",
    "                            hover_name = country_customers['country'],\n",
    "                            color_continuous_scale = 'portland')\n",
    "customer_map.show()"
   ]
  },
  {
   "cell_type": "code",
   "execution_count": 26,
   "metadata": {
    "colab": {
     "base_uri": "https://localhost:8080/",
     "height": 427
    },
    "id": "j8G6rxBKSatW",
    "outputId": "f2e8565e-7ba8-4878-cf83-6be65490fe6a"
   },
   "outputs": [
    {
     "data": {
      "text/plain": [
       "Text(0, 0.5, 'Percentage of Bookings Canceled')"
      ]
     },
     "execution_count": 26,
     "metadata": {},
     "output_type": "execute_result"
    },
    {
     "data": {
      "image/png": "[encoded data removed]",
      "text/plain": [
       "<Figure size 576x216 with 1 Axes>"
      ]
     },
     "metadata": {
      "needs_background": "light"
     },
     "output_type": "display_data"
    }
   ],
   "source": [
    "## Check the cancellation percentage with the market segment\n",
    "plt.figure(figsize = (8,3))\n",
    "plt.title(\"Percentage of cancellation for Each market segment\", fontsize = 20)\n",
    "sns.barplot(data = d, x = \"market_segment\", y = \"is_canceled\", hue = \"hotel\")\n",
    "plt.ylabel(\"Percentage of Bookings Canceled\", fontsize = 12)"
   ]
  },
  {
   "cell_type": "markdown",
   "metadata": {
    "id": "WYODEdzDZoy3"
   },
   "source": [
    "Here we can see different `market segment` types have different cancellation percentages. We discover that City Hotel has a higher percentage of cancellations in this feature compared to Resort Hotel, so this feature variable needs to be taken into consideration. "
   ]
  },
  {
   "cell_type": "code",
   "execution_count": 27,
   "metadata": {
    "colab": {
     "base_uri": "https://localhost:8080/",
     "height": 427
    },
    "id": "qrMVGw-8Seip",
    "outputId": "151862c2-32c9-453d-c355-1c041921ff37"
   },
   "outputs": [
    {
     "data": {
      "text/plain": [
       "Text(0, 0.5, 'Percentage of Bookings Canceled')"
      ]
     },
     "execution_count": 27,
     "metadata": {},
     "output_type": "execute_result"
    },
    {
     "data": {
      "image/png": "[encoded data removed]",
      "text/plain": [
       "<Figure size 432x216 with 1 Axes>"
      ]
     },
     "metadata": {
      "needs_background": "light"
     },
     "output_type": "display_data"
    }
   ],
   "source": [
    "## Check the cancellation percentage with the distribution channel\n",
    "plt.figure(figsize = (6,3))\n",
    "plt.title(\"Percentage of cancellation for Each distribution_channel\", fontsize =20)\n",
    "sns.barplot(data = d, x = \"distribution_channel\", y = \"is_canceled\", hue = \"hotel\")\n",
    "plt.ylabel(\"Percentage of Bookings Canceled\", fontsize = 9)"
   ]
  },
  {
   "cell_type": "markdown",
   "metadata": {
    "id": "eAO3LSNTZoy4"
   },
   "source": [
    "Here we can see different `distribution_channel` types have different cancellation percentages. We discover that City Hotel has a higher percentage of cancellations in this feature compared to Resort Hotel, so this feature variable needs to be taken into consideration. "
   ]
  },
  {
   "cell_type": "code",
   "execution_count": 28,
   "metadata": {
    "colab": {
     "base_uri": "https://localhost:8080/",
     "height": 427
    },
    "id": "bPBW1pWkSh0o",
    "outputId": "22782a35-0653-46c0-bbd0-a9bb935f9c36"
   },
   "outputs": [
    {
     "data": {
      "text/plain": [
       "Text(0, 0.5, 'Percentage of Bookings Canceled')"
      ]
     },
     "execution_count": 28,
     "metadata": {},
     "output_type": "execute_result"
    },
    {
     "data": {
      "image/png": "[encoded data removed]",
      "text/plain": [
       "<Figure size 432x216 with 1 Axes>"
      ]
     },
     "metadata": {
      "needs_background": "light"
     },
     "output_type": "display_data"
    }
   ],
   "source": [
    "## Check the cancellation percentage with the deposit type\n",
    "plt.figure(figsize = (6,3))\n",
    "plt.title(\"Percentage of cancellation for Each Deposit Type\", fontsize = 20)\n",
    "sns.barplot(data = d, x = \"deposit_type\", y = \"is_canceled\", hue = \"hotel\")\n",
    "plt.ylabel(\"Percentage of Bookings Canceled\", fontsize = 10)"
   ]
  },
  {
   "cell_type": "markdown",
   "metadata": {
    "id": "EIneD4MtSlt6"
   },
   "source": [
    "It is quite strange that people who pay the non-refund deposit tends to cancel their bookings. it needs to be discussed in the further research."
   ]
  },
  {
   "cell_type": "code",
   "execution_count": 29,
   "metadata": {
    "colab": {
     "base_uri": "https://localhost:8080/",
     "height": 394
    },
    "id": "lM2P5Efu7l5s",
    "outputId": "b9fc7448-e145-4c04-f08b-227001be0494"
   },
   "outputs": [
    {
     "data": {
      "text/html": [
       "<div>\n",
       "<style scoped>\n",
       "    .dataframe tbody tr th:only-of-type {\n",
       "        vertical-align: middle;\n",
       "    }\n",
       "\n",
       "    .dataframe tbody tr th {\n",
       "        vertical-align: top;\n",
       "    }\n",
       "\n",
       "    .dataframe thead th {\n",
       "        text-align: right;\n",
       "    }\n",
       "</style>\n",
       "<table border=\"1\" class=\"dataframe\">\n",
       "  <thead>\n",
       "    <tr style=\"text-align: right;\">\n",
       "      <th></th>\n",
       "      <th>percentage of canceled</th>\n",
       "      <th>count</th>\n",
       "    </tr>\n",
       "    <tr>\n",
       "      <th>agent</th>\n",
       "      <th></th>\n",
       "      <th></th>\n",
       "    </tr>\n",
       "  </thead>\n",
       "  <tbody>\n",
       "    <tr>\n",
       "      <th>236.0</th>\n",
       "      <td>1.000000</td>\n",
       "      <td>247</td>\n",
       "    </tr>\n",
       "    <tr>\n",
       "      <th>170.0</th>\n",
       "      <td>1.000000</td>\n",
       "      <td>93</td>\n",
       "    </tr>\n",
       "    <tr>\n",
       "      <th>41.0</th>\n",
       "      <td>1.000000</td>\n",
       "      <td>75</td>\n",
       "    </tr>\n",
       "    <tr>\n",
       "      <th>326.0</th>\n",
       "      <td>0.975758</td>\n",
       "      <td>165</td>\n",
       "    </tr>\n",
       "    <tr>\n",
       "      <th>31.0</th>\n",
       "      <td>0.950617</td>\n",
       "      <td>162</td>\n",
       "    </tr>\n",
       "    <tr>\n",
       "      <th>58.0</th>\n",
       "      <td>0.880597</td>\n",
       "      <td>335</td>\n",
       "    </tr>\n",
       "    <tr>\n",
       "      <th>495.0</th>\n",
       "      <td>0.877193</td>\n",
       "      <td>57</td>\n",
       "    </tr>\n",
       "    <tr>\n",
       "      <th>29.0</th>\n",
       "      <td>0.800587</td>\n",
       "      <td>682</td>\n",
       "    </tr>\n",
       "    <tr>\n",
       "      <th>44.0</th>\n",
       "      <td>0.794521</td>\n",
       "      <td>292</td>\n",
       "    </tr>\n",
       "    <tr>\n",
       "      <th>68.0</th>\n",
       "      <td>0.781991</td>\n",
       "      <td>211</td>\n",
       "    </tr>\n",
       "  </tbody>\n",
       "</table>\n",
       "</div>"
      ],
      "text/plain": [
       "       percentage of canceled  count\n",
       "agent                               \n",
       "236.0                1.000000    247\n",
       "170.0                1.000000     93\n",
       "41.0                 1.000000     75\n",
       "326.0                0.975758    165\n",
       "31.0                 0.950617    162\n",
       "58.0                 0.880597    335\n",
       "495.0                0.877193     57\n",
       "29.0                 0.800587    682\n",
       "44.0                 0.794521    292\n",
       "68.0                 0.781991    211"
      ]
     },
     "execution_count": 29,
     "metadata": {},
     "output_type": "execute_result"
    }
   ],
   "source": [
    "agent_count = (d.groupby(['agent'])['is_canceled'].sum()/d.groupby(['agent'])['is_canceled'].count()).reset_index()\n",
    "agent_count['count'] = ((d.groupby(['agent'])['is_canceled'].count()).reset_index())['is_canceled'] \n",
    "agent_count.columns = ['agent','percentage of canceled','count']\n",
    "agent = agent_count[agent_count['count']>50].sort_values(by = 'percentage of canceled',ascending = False)[0:10]\n",
    "agent.set_index('agent')"
   ]
  },
  {
   "cell_type": "markdown",
   "metadata": {
    "id": "jA1vHuIkZoy4"
   },
   "source": [
    "Here we list the first ten agents that have the highest cancellation rate, at the same time the agents' count less than 50 times do not take into consideration. And the table above is our result. The first column is the `agent` code."
   ]
  },
  {
   "cell_type": "code",
   "execution_count": 30,
   "metadata": {
    "colab": {
     "base_uri": "https://localhost:8080/",
     "height": 394
    },
    "id": "AC5OISbv7l5s",
    "outputId": "9b78605a-0421-4299-ab03-ad93a505ff25"
   },
   "outputs": [
    {
     "data": {
      "text/html": [
       "<div>\n",
       "<style scoped>\n",
       "    .dataframe tbody tr th:only-of-type {\n",
       "        vertical-align: middle;\n",
       "    }\n",
       "\n",
       "    .dataframe tbody tr th {\n",
       "        vertical-align: top;\n",
       "    }\n",
       "\n",
       "    .dataframe thead th {\n",
       "        text-align: right;\n",
       "    }\n",
       "</style>\n",
       "<table border=\"1\" class=\"dataframe\">\n",
       "  <thead>\n",
       "    <tr style=\"text-align: right;\">\n",
       "      <th></th>\n",
       "      <th>percentage of canceled</th>\n",
       "      <th>count</th>\n",
       "    </tr>\n",
       "    <tr>\n",
       "      <th>company</th>\n",
       "      <th></th>\n",
       "      <th></th>\n",
       "    </tr>\n",
       "  </thead>\n",
       "  <tbody>\n",
       "    <tr>\n",
       "      <th>348.0</th>\n",
       "      <td>1.000000</td>\n",
       "      <td>59</td>\n",
       "    </tr>\n",
       "    <tr>\n",
       "      <th>67.0</th>\n",
       "      <td>0.655431</td>\n",
       "      <td>267</td>\n",
       "    </tr>\n",
       "    <tr>\n",
       "      <th>No Company</th>\n",
       "      <td>0.382559</td>\n",
       "      <td>112435</td>\n",
       "    </tr>\n",
       "    <tr>\n",
       "      <th>51.0</th>\n",
       "      <td>0.353535</td>\n",
       "      <td>99</td>\n",
       "    </tr>\n",
       "    <tr>\n",
       "      <th>110.0</th>\n",
       "      <td>0.326923</td>\n",
       "      <td>52</td>\n",
       "    </tr>\n",
       "    <tr>\n",
       "      <th>135.0</th>\n",
       "      <td>0.287879</td>\n",
       "      <td>66</td>\n",
       "    </tr>\n",
       "    <tr>\n",
       "      <th>498.0</th>\n",
       "      <td>0.275862</td>\n",
       "      <td>58</td>\n",
       "    </tr>\n",
       "    <tr>\n",
       "      <th>169.0</th>\n",
       "      <td>0.250000</td>\n",
       "      <td>64</td>\n",
       "    </tr>\n",
       "    <tr>\n",
       "      <th>153.0</th>\n",
       "      <td>0.225352</td>\n",
       "      <td>213</td>\n",
       "    </tr>\n",
       "    <tr>\n",
       "      <th>331.0</th>\n",
       "      <td>0.196721</td>\n",
       "      <td>61</td>\n",
       "    </tr>\n",
       "  </tbody>\n",
       "</table>\n",
       "</div>"
      ],
      "text/plain": [
       "            percentage of canceled   count\n",
       "company                                   \n",
       "348.0                     1.000000      59\n",
       "67.0                      0.655431     267\n",
       "No Company                0.382559  112435\n",
       "51.0                      0.353535      99\n",
       "110.0                     0.326923      52\n",
       "135.0                     0.287879      66\n",
       "498.0                     0.275862      58\n",
       "169.0                     0.250000      64\n",
       "153.0                     0.225352     213\n",
       "331.0                     0.196721      61"
      ]
     },
     "execution_count": 30,
     "metadata": {},
     "output_type": "execute_result"
    }
   ],
   "source": [
    "company_count = (d.groupby(['company'])['is_canceled'].sum()/d.groupby(['company'])['is_canceled'].count()).reset_index()\n",
    "company_count['count'] = ((d.groupby(['company'])['is_canceled'].count()).reset_index())['is_canceled'] \n",
    "company_count.columns = ['company','percentage of canceled','count']\n",
    "company = company_count[company_count['count']>50].sort_values(by = 'percentage of canceled',ascending = False)[0:10]\n",
    "company.set_index('company')"
   ]
  },
  {
   "cell_type": "markdown",
   "metadata": {
    "id": "0FnCwVVk7l5t"
   },
   "source": [
    "Here we list the first ten companies that have the highest cancellation rate, at the same time the companies' count less than 50 times do not take into consideration. And the table above is our result. The first column is the `company` code."
   ]
  },
  {
   "cell_type": "code",
   "execution_count": 31,
   "metadata": {
    "colab": {
     "base_uri": "https://localhost:8080/",
     "height": 427
    },
    "id": "N_hZ-UbzS1h6",
    "outputId": "f1bc5aec-1604-444b-db09-7f7776692335"
   },
   "outputs": [
    {
     "data": {
      "text/plain": [
       "Text(0, 0.5, 'Percentage of Bookings Canceled')"
      ]
     },
     "execution_count": 31,
     "metadata": {},
     "output_type": "execute_result"
    },
    {
     "data": {
      "image/png": "[encoded data removed]",
      "text/plain": [
       "<Figure size 576x216 with 1 Axes>"
      ]
     },
     "metadata": {
      "needs_background": "light"
     },
     "output_type": "display_data"
    }
   ],
   "source": [
    "## Check the cancellation percentage with the room type\n",
    "plt.figure(figsize = (8,3))\n",
    "plt.title(\"Percentage of cancellation for Each Reserved Room Type\", fontsize = 20)\n",
    "sns.barplot(data = d, x = \"reserved_room_type\", y = \"is_canceled\", hue = \"hotel\")\n",
    "plt.ylabel(\"Percentage of Bookings Canceled\", fontsize = 12)"
   ]
  },
  {
   "cell_type": "markdown",
   "metadata": {
    "id": "kfQ6L9MOS4pI"
   },
   "source": [
    "Here we can conclude that different `Reserved Room Type` have different precentage of cancelations. Thus this feature variables need to be taken into consideration."
   ]
  },
  {
   "cell_type": "code",
   "execution_count": 32,
   "metadata": {
    "colab": {
     "base_uri": "https://localhost:8080/",
     "height": 427
    },
    "id": "J3705DVLS7S7",
    "outputId": "3b7a7505-c6de-494e-858e-286c500981b2"
   },
   "outputs": [
    {
     "data": {
      "text/plain": [
       "Text(0, 0.5, 'Percentage of Bookings Canceled')"
      ]
     },
     "execution_count": 32,
     "metadata": {},
     "output_type": "execute_result"
    },
    {
     "data": {
      "image/png": "[encoded data removed]",
      "text/plain": [
       "<Figure size 432x216 with 1 Axes>"
      ]
     },
     "metadata": {
      "needs_background": "light"
     },
     "output_type": "display_data"
    }
   ],
   "source": [
    "## Check the cancellation percentage with the customer type\n",
    "plt.figure(figsize = (6,3))\n",
    "plt.title(\"Percentage of cancellation for Each customer type\", fontsize = 20)\n",
    "sns.barplot(data = d, x = \"customer_type\", y = \"is_canceled\", hue = \"hotel\")\n",
    "plt.ylabel(\"Percentage of Bookings Canceled\", fontsize = 12)"
   ]
  },
  {
   "cell_type": "markdown",
   "metadata": {
    "id": "j5T9j2beS_TZ"
   },
   "source": [
    "Here we can see that for `Contract customer` City Hotel cancellation rate is quite higher than Resort Hotel, so we tend to take this feature variable into consideration."
   ]
  },
  {
   "cell_type": "code",
   "execution_count": 33,
   "metadata": {
    "colab": {
     "base_uri": "https://localhost:8080/",
     "height": 505
    },
    "id": "VIIZVtyoTBrZ",
    "outputId": "d73d3be1-d729-4ce4-fbfa-1338f8bdd762"
   },
   "outputs": [],
   "source": [
    "# Here we set all categorical variables as dummmy variables\n",
    "fea_dummy = pd.get_dummies(d[obj_cols].astype(str), drop_first=True)"
   ]
  },
  {
   "cell_type": "code",
   "execution_count": 34,
   "metadata": {
    "colab": {
     "base_uri": "https://localhost:8080/",
     "height": 487
    },
    "id": "jzy1_C5YIel9",
    "outputId": "f5a3e6cc-53b9-412a-f0ad-f239e38e2e10"
   },
   "outputs": [],
   "source": [
    "d_num = d[num_cols]\n",
    "# transfrom any skewed features using a log transform\n",
    "\n",
    "lt = LogTransformer(variables = num_cols)\n",
    "d_num_1 = d_num[num_cols]+1\n",
    "X_num_lt = lt.fit_transform(d_num_1) # to stop the 0 value error"
   ]
  },
  {
   "cell_type": "code",
   "execution_count": 35,
   "metadata": {
    "colab": {
     "base_uri": "https://localhost:8080/",
     "height": 505
    },
    "id": "CgTOAO1yTHIF",
    "outputId": "22984f4e-62cd-492f-fcc7-0eb61b3da340"
   },
   "outputs": [
    {
     "data": {
      "text/html": [
       "<div>\n",
       "<style scoped>\n",
       "    .dataframe tbody tr th:only-of-type {\n",
       "        vertical-align: middle;\n",
       "    }\n",
       "\n",
       "    .dataframe tbody tr th {\n",
       "        vertical-align: top;\n",
       "    }\n",
       "\n",
       "    .dataframe thead th {\n",
       "        text-align: right;\n",
       "    }\n",
       "</style>\n",
       "<table border=\"1\" class=\"dataframe\">\n",
       "  <thead>\n",
       "    <tr style=\"text-align: right;\">\n",
       "      <th></th>\n",
       "      <th>lead_time</th>\n",
       "      <th>stays_in_weekend_nights</th>\n",
       "      <th>stays_in_week_nights</th>\n",
       "      <th>adults</th>\n",
       "      <th>children</th>\n",
       "      <th>babies</th>\n",
       "      <th>previous_cancellations</th>\n",
       "      <th>previous_bookings_not_canceled</th>\n",
       "      <th>booking_changes</th>\n",
       "      <th>days_in_waiting_list</th>\n",
       "      <th>adr</th>\n",
       "      <th>required_car_parking_spaces</th>\n",
       "      <th>total_of_special_requests</th>\n",
       "      <th>arrival_date_year_2016</th>\n",
       "      <th>arrival_date_year_2017</th>\n",
       "      <th>arrival_date_week_number_10</th>\n",
       "      <th>...</th>\n",
       "      <th>country_UGA</th>\n",
       "      <th>country_UKR</th>\n",
       "      <th>country_UMI</th>\n",
       "      <th>country_URY</th>\n",
       "      <th>country_USA</th>\n",
       "      <th>country_UZB</th>\n",
       "      <th>country_VEN</th>\n",
       "      <th>country_VGB</th>\n",
       "      <th>country_VNM</th>\n",
       "      <th>country_ZAF</th>\n",
       "      <th>country_ZMB</th>\n",
       "      <th>country_ZWE</th>\n",
       "      <th>country_unknown</th>\n",
       "      <th>customer_type_Group</th>\n",
       "      <th>customer_type_Transient</th>\n",
       "      <th>customer_type_Transient-Party</th>\n",
       "    </tr>\n",
       "  </thead>\n",
       "  <tbody>\n",
       "    <tr>\n",
       "      <th>0</th>\n",
       "      <td>5.837730</td>\n",
       "      <td>0.0</td>\n",
       "      <td>0.000000</td>\n",
       "      <td>1.098612</td>\n",
       "      <td>0.0</td>\n",
       "      <td>0.0</td>\n",
       "      <td>0.0</td>\n",
       "      <td>0.0</td>\n",
       "      <td>1.386294</td>\n",
       "      <td>0.0</td>\n",
       "      <td>0.000000</td>\n",
       "      <td>0.0</td>\n",
       "      <td>0.000000</td>\n",
       "      <td>0</td>\n",
       "      <td>0</td>\n",
       "      <td>0</td>\n",
       "      <td>...</td>\n",
       "      <td>0</td>\n",
       "      <td>0</td>\n",
       "      <td>0</td>\n",
       "      <td>0</td>\n",
       "      <td>0</td>\n",
       "      <td>0</td>\n",
       "      <td>0</td>\n",
       "      <td>0</td>\n",
       "      <td>0</td>\n",
       "      <td>0</td>\n",
       "      <td>0</td>\n",
       "      <td>0</td>\n",
       "      <td>0</td>\n",
       "      <td>0</td>\n",
       "      <td>1</td>\n",
       "      <td>0</td>\n",
       "    </tr>\n",
       "    <tr>\n",
       "      <th>1</th>\n",
       "      <td>6.603944</td>\n",
       "      <td>0.0</td>\n",
       "      <td>0.000000</td>\n",
       "      <td>1.098612</td>\n",
       "      <td>0.0</td>\n",
       "      <td>0.0</td>\n",
       "      <td>0.0</td>\n",
       "      <td>0.0</td>\n",
       "      <td>1.609438</td>\n",
       "      <td>0.0</td>\n",
       "      <td>0.000000</td>\n",
       "      <td>0.0</td>\n",
       "      <td>0.000000</td>\n",
       "      <td>0</td>\n",
       "      <td>0</td>\n",
       "      <td>0</td>\n",
       "      <td>...</td>\n",
       "      <td>0</td>\n",
       "      <td>0</td>\n",
       "      <td>0</td>\n",
       "      <td>0</td>\n",
       "      <td>0</td>\n",
       "      <td>0</td>\n",
       "      <td>0</td>\n",
       "      <td>0</td>\n",
       "      <td>0</td>\n",
       "      <td>0</td>\n",
       "      <td>0</td>\n",
       "      <td>0</td>\n",
       "      <td>0</td>\n",
       "      <td>0</td>\n",
       "      <td>1</td>\n",
       "      <td>0</td>\n",
       "    </tr>\n",
       "    <tr>\n",
       "      <th>2</th>\n",
       "      <td>2.079442</td>\n",
       "      <td>0.0</td>\n",
       "      <td>0.693147</td>\n",
       "      <td>0.693147</td>\n",
       "      <td>0.0</td>\n",
       "      <td>0.0</td>\n",
       "      <td>0.0</td>\n",
       "      <td>0.0</td>\n",
       "      <td>0.000000</td>\n",
       "      <td>0.0</td>\n",
       "      <td>4.330733</td>\n",
       "      <td>0.0</td>\n",
       "      <td>0.000000</td>\n",
       "      <td>0</td>\n",
       "      <td>0</td>\n",
       "      <td>0</td>\n",
       "      <td>...</td>\n",
       "      <td>0</td>\n",
       "      <td>0</td>\n",
       "      <td>0</td>\n",
       "      <td>0</td>\n",
       "      <td>0</td>\n",
       "      <td>0</td>\n",
       "      <td>0</td>\n",
       "      <td>0</td>\n",
       "      <td>0</td>\n",
       "      <td>0</td>\n",
       "      <td>0</td>\n",
       "      <td>0</td>\n",
       "      <td>0</td>\n",
       "      <td>0</td>\n",
       "      <td>1</td>\n",
       "      <td>0</td>\n",
       "    </tr>\n",
       "    <tr>\n",
       "      <th>3</th>\n",
       "      <td>2.639057</td>\n",
       "      <td>0.0</td>\n",
       "      <td>0.693147</td>\n",
       "      <td>0.693147</td>\n",
       "      <td>0.0</td>\n",
       "      <td>0.0</td>\n",
       "      <td>0.0</td>\n",
       "      <td>0.0</td>\n",
       "      <td>0.000000</td>\n",
       "      <td>0.0</td>\n",
       "      <td>4.330733</td>\n",
       "      <td>0.0</td>\n",
       "      <td>0.000000</td>\n",
       "      <td>0</td>\n",
       "      <td>0</td>\n",
       "      <td>0</td>\n",
       "      <td>...</td>\n",
       "      <td>0</td>\n",
       "      <td>0</td>\n",
       "      <td>0</td>\n",
       "      <td>0</td>\n",
       "      <td>0</td>\n",
       "      <td>0</td>\n",
       "      <td>0</td>\n",
       "      <td>0</td>\n",
       "      <td>0</td>\n",
       "      <td>0</td>\n",
       "      <td>0</td>\n",
       "      <td>0</td>\n",
       "      <td>0</td>\n",
       "      <td>0</td>\n",
       "      <td>1</td>\n",
       "      <td>0</td>\n",
       "    </tr>\n",
       "    <tr>\n",
       "      <th>4</th>\n",
       "      <td>2.708050</td>\n",
       "      <td>0.0</td>\n",
       "      <td>1.098612</td>\n",
       "      <td>1.098612</td>\n",
       "      <td>0.0</td>\n",
       "      <td>0.0</td>\n",
       "      <td>0.0</td>\n",
       "      <td>0.0</td>\n",
       "      <td>0.000000</td>\n",
       "      <td>0.0</td>\n",
       "      <td>4.595120</td>\n",
       "      <td>0.0</td>\n",
       "      <td>0.693147</td>\n",
       "      <td>0</td>\n",
       "      <td>0</td>\n",
       "      <td>0</td>\n",
       "      <td>...</td>\n",
       "      <td>0</td>\n",
       "      <td>0</td>\n",
       "      <td>0</td>\n",
       "      <td>0</td>\n",
       "      <td>0</td>\n",
       "      <td>0</td>\n",
       "      <td>0</td>\n",
       "      <td>0</td>\n",
       "      <td>0</td>\n",
       "      <td>0</td>\n",
       "      <td>0</td>\n",
       "      <td>0</td>\n",
       "      <td>0</td>\n",
       "      <td>0</td>\n",
       "      <td>1</td>\n",
       "      <td>0</td>\n",
       "    </tr>\n",
       "  </tbody>\n",
       "</table>\n",
       "<p>5 rows × 1003 columns</p>\n",
       "</div>"
      ],
      "text/plain": [
       "   lead_time  stays_in_weekend_nights  stays_in_week_nights    adults  \\\n",
       "0   5.837730                      0.0              0.000000  1.098612   \n",
       "1   6.603944                      0.0              0.000000  1.098612   \n",
       "2   2.079442                      0.0              0.693147  0.693147   \n",
       "3   2.639057                      0.0              0.693147  0.693147   \n",
       "4   2.708050                      0.0              1.098612  1.098612   \n",
       "\n",
       "   children  babies  previous_cancellations  previous_bookings_not_canceled  \\\n",
       "0       0.0     0.0                     0.0                             0.0   \n",
       "1       0.0     0.0                     0.0                             0.0   \n",
       "2       0.0     0.0                     0.0                             0.0   \n",
       "3       0.0     0.0                     0.0                             0.0   \n",
       "4       0.0     0.0                     0.0                             0.0   \n",
       "\n",
       "   booking_changes  days_in_waiting_list       adr  \\\n",
       "0         1.386294                   0.0  0.000000   \n",
       "1         1.609438                   0.0  0.000000   \n",
       "2         0.000000                   0.0  4.330733   \n",
       "3         0.000000                   0.0  4.330733   \n",
       "4         0.000000                   0.0  4.595120   \n",
       "\n",
       "   required_car_parking_spaces  total_of_special_requests  \\\n",
       "0                          0.0                   0.000000   \n",
       "1                          0.0                   0.000000   \n",
       "2                          0.0                   0.000000   \n",
       "3                          0.0                   0.000000   \n",
       "4                          0.0                   0.693147   \n",
       "\n",
       "   arrival_date_year_2016  arrival_date_year_2017  \\\n",
       "0                       0                       0   \n",
       "1                       0                       0   \n",
       "2                       0                       0   \n",
       "3                       0                       0   \n",
       "4                       0                       0   \n",
       "\n",
       "   arrival_date_week_number_10  ...  country_UGA  country_UKR  country_UMI  \\\n",
       "0                            0  ...            0            0            0   \n",
       "1                            0  ...            0            0            0   \n",
       "2                            0  ...            0            0            0   \n",
       "3                            0  ...            0            0            0   \n",
       "4                            0  ...            0            0            0   \n",
       "\n",
       "   country_URY  country_USA  country_UZB  country_VEN  country_VGB  \\\n",
       "0            0            0            0            0            0   \n",
       "1            0            0            0            0            0   \n",
       "2            0            0            0            0            0   \n",
       "3            0            0            0            0            0   \n",
       "4            0            0            0            0            0   \n",
       "\n",
       "   country_VNM  country_ZAF  country_ZMB  country_ZWE  country_unknown  \\\n",
       "0            0            0            0            0                0   \n",
       "1            0            0            0            0                0   \n",
       "2            0            0            0            0                0   \n",
       "3            0            0            0            0                0   \n",
       "4            0            0            0            0                0   \n",
       "\n",
       "   customer_type_Group  customer_type_Transient  customer_type_Transient-Party  \n",
       "0                    0                        1                              0  \n",
       "1                    0                        1                              0  \n",
       "2                    0                        1                              0  \n",
       "3                    0                        1                              0  \n",
       "4                    0                        1                              0  \n",
       "\n",
       "[5 rows x 1003 columns]"
      ]
     },
     "execution_count": 35,
     "metadata": {},
     "output_type": "execute_result"
    }
   ],
   "source": [
    "X = pd.concat([X_num_lt,fea_dummy],axis = 1)\n",
    "X.head()"
   ]
  },
  {
   "cell_type": "markdown",
   "metadata": {
    "id": "n_3YeL92PLto"
   },
   "source": [
    "# 3. Model Fitting and Tuning"
   ]
  },
  {
   "cell_type": "markdown",
   "metadata": {
    "id": "A2oWsIqMHY3_"
   },
   "source": [
    "First，divide the samples into training set and test set. Here, we use the additional argument inside of `train_test_split` function, stratify in terms of the response data set to make sure the class proportions in train and testing will be the same. "
   ]
  },
  {
   "cell_type": "code",
   "execution_count": 36,
   "metadata": {
    "colab": {
     "base_uri": "https://localhost:8080/"
    },
    "id": "z9KcJUbggUD9",
    "outputId": "47d12a9c-f1d6-42ad-c950-7da8d1178237"
   },
   "outputs": [
    {
     "name": "stdout",
     "output_type": "stream",
     "text": [
      "0    62.92543\n",
      "1    37.07457\n",
      "Name: is_canceled, dtype: float64\n"
     ]
    }
   ],
   "source": [
    "y = d['is_canceled']\n",
    "# get our null accuracy rate \n",
    "print(y.value_counts(normalize=True)*100)\n",
    "\n",
    "#Stratified sampling on whether the booking was canceled (1) or not (0)\n",
    "X_train, X_test, y_train, y_test = train_test_split(X, y, test_size=0.3, random_state=1, stratify=y)"
   ]
  },
  {
   "cell_type": "markdown",
   "metadata": {
    "id": "0Y1R5T9UNXwF"
   },
   "source": [
    "The main goal of our model building is to get a model with higher prediction accuracy. At the same time, we also want to understand what aspects of a booking affect the likelihood of it being canceled. In order to do so, we compare the model in logistic regression, a decision tree, a random forest, and a neural network."
   ]
  },
  {
   "cell_type": "markdown",
   "metadata": {
    "id": "6fhD2NXXPVzr"
   },
   "source": [
    "### 3.1 Logistic Regression"
   ]
  },
  {
   "cell_type": "markdown",
   "metadata": {
    "id": "n5mLmM-oZoy7"
   },
   "source": [
    "First, we use logistic regression to fit the data."
   ]
  },
  {
   "cell_type": "code",
   "execution_count": 37,
   "metadata": {
    "colab": {
     "base_uri": "https://localhost:8080/"
    },
    "id": "nha1A-NAQL0O",
    "outputId": "8509af22-eebf-497b-91b7-bc4d5407096e"
   },
   "outputs": [
    {
     "name": "stdout",
     "output_type": "stream",
     "text": [
      "0.8503751108554445\n",
      "0.844495400016778\n"
     ]
    }
   ],
   "source": [
    "#make a pipieline for logostic regression\n",
    "log_pipe = make_pipeline(StandardScaler(), LogisticRegression(random_state=42, penalty=\"none\"))\n",
    "logfit = log_pipe.fit(X_train, y_train)\n",
    "\n",
    "# print(logfit.get_params())\n",
    "print(logfit.score(X_train,y_train))\n",
    "print(logfit.score(X_test,y_test))"
   ]
  },
  {
   "cell_type": "markdown",
   "metadata": {
    "id": "9kHWWxHmQAR_"
   },
   "source": [
    "This model is not overfit or underfit (the training and testing scores are close together). The model is outperforming the baseline with a testing accuracy of 80.8%. However, the prediction accuracy of the model is not very high, then we want to get the confusion matrix to find details about the prediction."
   ]
  },
  {
   "cell_type": "code",
   "execution_count": 38,
   "metadata": {},
   "outputs": [
    {
     "name": "stdout",
     "output_type": "stream",
     "text": [
      "Report for Logistic Regression:\n",
      "               precision    recall  f1-score   support\n",
      "\n",
      "           0       0.86      0.90      0.88     22503\n",
      "           1       0.82      0.75      0.78     13258\n",
      "\n",
      "    accuracy                           0.84     35761\n",
      "   macro avg       0.84      0.82      0.83     35761\n",
      "weighted avg       0.84      0.84      0.84     35761\n",
      "\n"
     ]
    },
    {
     "data": {
      "image/png": "[encoded data removed]",
      "text/plain": [
       "<Figure size 576x216 with 2 Axes>"
      ]
     },
     "metadata": {},
     "output_type": "display_data"
    }
   ],
   "source": [
    "log_pipe2 = make_pipeline(StandardScaler(), LogisticRegression(C=4.23, random_state=42,max_iter=100))\n",
    "logfit2 = log_pipe2.fit(X_train,y_train)\n",
    "# predict the test data\n",
    "y_test_pred_log =  logfit2.predict(X_test)\n",
    "# Creating confusion matrix \n",
    "log_cm = sklearn.metrics.confusion_matrix(y_test,y_test_pred_log)\n",
    "# putting the matrix a dataframe form  \n",
    "log_cm_df = pd.DataFrame(log_cm, index=['Actually Not Canceled', 'Actually Canceled'],\n",
    "                 columns=['Predicted Not Canceled', 'Predicted Canceled'])\n",
    "# visualizing the confusion matrix\n",
    "sns.set(font_scale=1.2)\n",
    "plt.figure(figsize=(8,3))\n",
    "sns.heatmap(log_cm, annot=True, fmt='g',xticklabels=log_cm_df.columns,yticklabels=log_cm_df.index)\n",
    "# summary the prediction performance\n",
    "log_report = classification_report(y_test, y_test_pred_log)\n",
    "print(f'Report for Logistic Regression:\\n',log_report)\n",
    "plt.title(\"Confusion Matrix\", size=15)\n",
    "plt.xlabel('Predicted Class')\n",
    "plt.ylabel('True Class');"
   ]
  },
  {
   "cell_type": "markdown",
   "metadata": {},
   "source": [
    "Here, the confusion matrix content implies an important issue about the values of FN. But we care more about FP, we don not want to have a double book issue for our customers. The accuracy for Logistic Regression is 0.84."
   ]
  },
  {
   "cell_type": "markdown",
   "metadata": {
    "id": "xWAyysnzZozB"
   },
   "source": [
    "### 3.2 Decision Tree\n",
    "\n",
    "Decision Trees (DTs) are a non-parametric supervised learning method. A decision tree uses a tree-like model of decisions and the possible results and is always used as the best choice model or selection model. "
   ]
  },
  {
   "cell_type": "code",
   "execution_count": 39,
   "metadata": {
    "colab": {
     "base_uri": "https://localhost:8080/",
     "height": 492
    },
    "id": "aWSlZFCG7l6g",
    "outputId": "4bb391c2-7d2f-4543-b01a-ba1fee67dfd3"
   },
   "outputs": [
    {
     "name": "stdout",
     "output_type": "stream",
     "text": [
      "Report for Decision Tree:\n",
      "               precision    recall  f1-score   support\n",
      "\n",
      "           0       0.89      0.89      0.89     22503\n",
      "           1       0.81      0.82      0.82     13258\n",
      "\n",
      "    accuracy                           0.86     35761\n",
      "   macro avg       0.85      0.85      0.85     35761\n",
      "weighted avg       0.86      0.86      0.86     35761\n",
      "\n"
     ]
    },
    {
     "data": {
      "image/png": "[encoded data removed]",
      "text/plain": [
       "<Figure size 576x216 with 2 Axes>"
      ]
     },
     "metadata": {},
     "output_type": "display_data"
    }
   ],
   "source": [
    "# Decision Tree\n",
    "dt = DecisionTreeClassifier(random_state=0).fit(X_train,y_train)\n",
    "# predict the test data\n",
    "y_test_pred_dt = dt.predict(X_test)\n",
    "conf_matrix_dt = confusion_matrix(y_test,y_test_pred_dt)\n",
    "# putting the matrix a dataframe form  \n",
    "dt_cm_df = pd.DataFrame(conf_matrix_dt, index=['Actually Not Canceled', 'Actually Canceled'],columns=['Predicted Not Canceled', 'Predicted Canceled'])\n",
    "# visualizing the confusion matrix\n",
    "plt.figure(figsize=(8,3))\n",
    "sns.heatmap(conf_matrix_dt,annot=True,fmt='g',xticklabels=dt_cm_df.columns,yticklabels=dt_cm_df.index)\n",
    "plt.title(\"Confusion Matrix\", size=20)\n",
    "plt.xlabel('Predicted Class')\n",
    "plt.ylabel('True Class');\n",
    "# summary the prediction performance\n",
    "clf_report_dt = classification_report(y_test, y_test_pred_dt)\n",
    "print(f'Report for Decision Tree:\\n',clf_report_dt)"
   ]
  },
  {
   "cell_type": "markdown",
   "metadata": {},
   "source": [
    "The accuracy of this method is 0.86, which is better than the previous models. The confusion matrix shows that it has similar number of FP and FN. We want to find whether there would be a better model than decision trees, so we try a Random Forest next, which is a ensemble learning method for classification based on decision trees."
   ]
  },
  {
   "cell_type": "markdown",
   "metadata": {
    "id": "ylUQBQx7ZozC"
   },
   "source": [
    "### 3.3 Random Forest\n",
    "\n",
    "Based on the decision trees, the random forest is a classification algorithm containing many decision trees.\n",
    "The random forests usually outperform decision trees but the data characteristics may affect the final results. So, we need to test whether the accuracy of random forests is better than decision trees."
   ]
  },
  {
   "cell_type": "code",
   "execution_count": 40,
   "metadata": {
    "colab": {
     "base_uri": "https://localhost:8080/",
     "height": 492
    },
    "id": "B2NlZkR17l6g",
    "outputId": "18f2bd51-3c51-4496-e55e-8d13a08e8e88"
   },
   "outputs": [
    {
     "name": "stdout",
     "output_type": "stream",
     "text": [
      "Report for Random Forest:\n",
      "               precision    recall  f1-score   support\n",
      "\n",
      "           0       0.89      0.95      0.92     22503\n",
      "           1       0.90      0.80      0.85     13258\n",
      "\n",
      "    accuracy                           0.89     35761\n",
      "   macro avg       0.89      0.87      0.88     35761\n",
      "weighted avg       0.89      0.89      0.89     35761\n",
      "\n"
     ]
    },
    {
     "data": {
      "image/png": "[encoded data removed]",
      "text/plain": [
       "<Figure size 576x216 with 2 Axes>"
      ]
     },
     "metadata": {},
     "output_type": "display_data"
    }
   ],
   "source": [
    "# Random Forest\n",
    "rf = RandomForestClassifier(random_state=42).fit(X_train,y_train)\n",
    "rf.fit(X_train,y_train)\n",
    "# predict the test data\n",
    "y_test_pred_rf = rf.predict(X_test)\n",
    "\n",
    "conf_matrix_rf = confusion_matrix(y_test,y_test_pred_rf)\n",
    "# putting the matrix a dataframe form  \n",
    "\n",
    "rf_cm_df = pd.DataFrame(conf_matrix_rf, index=['Actually Not Canceled', 'Actually Canceled'],\n",
    "                 columns=['Predicted Not Canceled', 'Predicted Canceled'])\n",
    "# visualizing the confusion matrix\n",
    "plt.figure(figsize=(8,3))\n",
    "sns.heatmap(conf_matrix_rf,annot=True,fmt='g',xticklabels=rf_cm_df.columns,yticklabels=rf_cm_df.index)\n",
    "plt.title(\"Confusion Matrix\", size=20)\n",
    "plt.xlabel('Predicted Class')\n",
    "plt.ylabel('True Class');\n",
    "# summary the prediction performance\n",
    "clf_report_rf = classification_report(y_test, y_test_pred_rf)\n",
    "print(f'Report for Random Forest:\\n',clf_report_rf )"
   ]
  },
  {
   "cell_type": "markdown",
   "metadata": {},
   "source": [
    "The result shows that this classifier has better performance and the accuracy is 0.89. And the Random Forest has significantly less number of FP, it would be helpful on our goal since more FP would result in more loss for the hotels.\n",
    "\n",
    "Here, we draw ROC curve for the this model."
   ]
  },
  {
   "cell_type": "code",
   "execution_count": 41,
   "metadata": {},
   "outputs": [],
   "source": [
    "# Function from week-7 exercise \n",
    "def roc_plot(threshold=0.5):\n",
    "    i = (np.abs(roc.threshold - threshold)).idxmin()\n",
    "    sns.lineplot(x='false positive rate', y='true positive rate', data=roc, ci=None)\n",
    "    plt.plot([0,1],[0,1], 'k--', alpha=0.5) # 0-1 line \n",
    "    plt.plot(roc.iloc[i,0], roc.iloc[i,1], 'r.')\n",
    "    plt.title(\"threshold = %.2f\" % threshold)\n",
    "    plt.show()"
   ]
  },
  {
   "cell_type": "code",
   "execution_count": 42,
   "metadata": {},
   "outputs": [
    {
     "name": "stdout",
     "output_type": "stream",
     "text": [
      "(array([0.        , 0.05403724, 1.        ]), array([0.        , 0.80366571, 1.        ]), array([2, 1, 0], dtype=int64))\n",
      "   false positive rate  true positive rate  threshold\n",
      "0             0.000000            0.000000        2.0\n",
      "1             0.054037            0.803666        1.0\n",
      "2             1.000000            1.000000        0.0\n",
      "AUC value: 0.8242791794301715\n"
     ]
    },
    {
     "data": {
      "image/png": "[encoded data removed]",
      "text/plain": [
       "<Figure size 432x288 with 1 Axes>"
      ]
     },
     "metadata": {},
     "output_type": "display_data"
    }
   ],
   "source": [
    "roc_calc = roc_curve(y_true = y_test, y_score = y_test_pred_rf)\n",
    "print(roc_calc)\n",
    "roc = pd.DataFrame(\n",
    "    data = np.c_[roc_calc],\n",
    "    columns = ('false positive rate', 'true positive rate', 'threshold')\n",
    ")\n",
    "# Values for ROC based on different threshold \n",
    "print(roc)\n",
    "#Print the related AUC value \n",
    "print(\"AUC value:\", roc_auc_score(y_true = y_test, y_score = y_test_pred_log))\n",
    "#ROC curve drawing by using the helper function roc_plot above\n",
    "roc_plot(threshold=0.5)"
   ]
  },
  {
   "cell_type": "markdown",
   "metadata": {},
   "source": [
    "The ROC plot shows that the Random Forest performs well in prediction the test data. And then we try to get the most important features in the Random Forest."
   ]
  },
  {
   "cell_type": "code",
   "execution_count": 43,
   "metadata": {},
   "outputs": [
    {
     "data": {
      "text/html": [
       "<div>\n",
       "<style scoped>\n",
       "    .dataframe tbody tr th:only-of-type {\n",
       "        vertical-align: middle;\n",
       "    }\n",
       "\n",
       "    .dataframe tbody tr th {\n",
       "        vertical-align: top;\n",
       "    }\n",
       "\n",
       "    .dataframe thead th {\n",
       "        text-align: right;\n",
       "    }\n",
       "</style>\n",
       "<table border=\"1\" class=\"dataframe\">\n",
       "  <thead>\n",
       "    <tr style=\"text-align: right;\">\n",
       "      <th></th>\n",
       "      <th>feature</th>\n",
       "      <th>importance</th>\n",
       "    </tr>\n",
       "  </thead>\n",
       "  <tbody>\n",
       "    <tr>\n",
       "      <th>0</th>\n",
       "      <td>lead_time</td>\n",
       "      <td>0.092707</td>\n",
       "    </tr>\n",
       "    <tr>\n",
       "      <th>140</th>\n",
       "      <td>deposit_type_Non Refund</td>\n",
       "      <td>0.066938</td>\n",
       "    </tr>\n",
       "    <tr>\n",
       "      <th>957</th>\n",
       "      <td>country_PRT</td>\n",
       "      <td>0.066326</td>\n",
       "    </tr>\n",
       "    <tr>\n",
       "      <th>10</th>\n",
       "      <td>adr</td>\n",
       "      <td>0.057958</td>\n",
       "    </tr>\n",
       "    <tr>\n",
       "      <th>12</th>\n",
       "      <td>total_of_special_requests</td>\n",
       "      <td>0.052452</td>\n",
       "    </tr>\n",
       "    <tr>\n",
       "      <th>2</th>\n",
       "      <td>stays_in_week_nights</td>\n",
       "      <td>0.031678</td>\n",
       "    </tr>\n",
       "    <tr>\n",
       "      <th>6</th>\n",
       "      <td>previous_cancellations</td>\n",
       "      <td>0.028142</td>\n",
       "    </tr>\n",
       "    <tr>\n",
       "      <th>1</th>\n",
       "      <td>stays_in_weekend_nights</td>\n",
       "      <td>0.020734</td>\n",
       "    </tr>\n",
       "    <tr>\n",
       "      <th>11</th>\n",
       "      <td>required_car_parking_spaces</td>\n",
       "      <td>0.018805</td>\n",
       "    </tr>\n",
       "    <tr>\n",
       "      <th>8</th>\n",
       "      <td>booking_changes</td>\n",
       "      <td>0.017884</td>\n",
       "    </tr>\n",
       "  </tbody>\n",
       "</table>\n",
       "</div>"
      ],
      "text/plain": [
       "                         feature  importance\n",
       "0                      lead_time    0.092707\n",
       "140      deposit_type_Non Refund    0.066938\n",
       "957                  country_PRT    0.066326\n",
       "10                           adr    0.057958\n",
       "12     total_of_special_requests    0.052452\n",
       "2           stays_in_week_nights    0.031678\n",
       "6         previous_cancellations    0.028142\n",
       "1        stays_in_weekend_nights    0.020734\n",
       "11   required_car_parking_spaces    0.018805\n",
       "8                booking_changes    0.017884"
      ]
     },
     "execution_count": 43,
     "metadata": {},
     "output_type": "execute_result"
    }
   ],
   "source": [
    "# extract feature importance\n",
    "fi = pd.DataFrame({'feature':list(X_test.columns),\n",
    "          'importance':rf.feature_importances_}).\\\n",
    "          sort_values('importance',ascending=False)\n",
    "\n",
    "# obtain the first 10 important variables\n",
    "fi[0:10]"
   ]
  },
  {
   "cell_type": "markdown",
   "metadata": {},
   "source": [
    "After combing the heatmap and bar chart from exploratory data analysis, we can find the trend for these important features. \n",
    "\n",
    "For those numerical variables, it can be concluded that when we increase`lead_time`,`adr`,`stays_in_week_nights`, the more likely the customer will cancel the reservation. But when we increase `total_of_special_requests`,`required_car_parking_spaces`,`booking_changes`, the more likely the customer will keep the reservation.\n",
    "For categorical variables, when the `deposit_type` is Non_Refund, and `country` is PRT, the possibility of cancellation will increase."
   ]
  },
  {
   "cell_type": "markdown",
   "metadata": {
    "id": "Rc3Ad89ao9CK"
   },
   "source": [
    "### 3.4 Artificial Neural Network\n",
    "\n",
    "ANNs are conceptually derived from biological neurons. We need to take the weighted sum of all the features, add a bias term to the sum and then pass through an activation function to output the results. The final outputs can accomplish our task which is predicting the cancelation conditions in our report. \n",
    "Finally, we try to use Artificial Neural Network on our datasets."
   ]
  },
  {
   "cell_type": "code",
   "execution_count": 44,
   "metadata": {
    "colab": {
     "base_uri": "https://localhost:8080/"
    },
    "id": "j2vKTgK7pASt",
    "outputId": "593b359c-557a-4ff8-a523-e6a9e9b3ceab"
   },
   "outputs": [],
   "source": [
    "X1 = X\n",
    "y1 = to_categorical(d['is_canceled'])"
   ]
  },
  {
   "cell_type": "code",
   "execution_count": 45,
   "metadata": {
    "id": "_cWh8fAHpbkj"
   },
   "outputs": [],
   "source": [
    "# splitting data into training set and test set\n",
    "X_train1, X_test1, y_train1, y_test1 = train_test_split(X1, y1, test_size = 0.30)\n",
    "\n",
    "model  = Sequential()\n",
    "model.add(Dense(100, activation = 'relu', input_shape = (1003, )))\n",
    "model.add(Dense(100, activation = 'relu'))\n",
    "model.add(Dense(2, activation = 'sigmoid'))\n",
    "model.compile(optimizer = 'adam', loss = 'binary_crossentropy', metrics = ['accuracy'])\n",
    "model_history = model.fit(X_train1, y_train1, validation_data = (X_test1, y_test1),\n",
    "                          epochs = 20)\n",
    "clear_output()"
   ]
  },
  {
   "cell_type": "code",
   "execution_count": 46,
   "metadata": {
    "colab": {
     "base_uri": "https://localhost:8080/",
     "height": 560
    },
    "id": "xfnTiL94p21w",
    "outputId": "73454da8-e106-4fde-ef74-2e471f20dfb7"
   },
   "outputs": [
    {
     "data": {
      "application/vnd.plotly.v1+json": {
       "config": {
        "plotlyServerURL": "https://plot.ly"
       },
       "data": [
        {
         "hovertemplate": "variable=val_acc<br>x=%{x}<br>value=%{y}<extra></extra>",
         "legendgroup": "val_acc",
         "line": {
          "color": "#636efa",
          "dash": "solid"
         },
         "marker": {
          "symbol": "circle"
         },
         "mode": "lines",
         "name": "val_acc",
         "orientation": "v",
         "showlegend": true,
         "type": "scatter",
         "x": [
          1,
          2,
          3,
          4,
          5,
          6,
          7,
          8,
          9,
          10,
          11,
          12,
          13,
          14,
          15,
          16,
          17,
          18,
          19,
          20
         ],
         "xaxis": "x",
         "y": [
          0.8636223673820496,
          0.8705852627754211,
          0.8714521527290344,
          0.8748077750205994,
          0.8726545572280884,
          0.8756466507911682,
          0.8772125840187073,
          0.8737730979919434,
          0.8760660886764526,
          0.8745560646057129,
          0.8749475479125977,
          0.8753949999809265,
          0.8753110766410828,
          0.8757025599479675,
          0.8782472610473633,
          0.876038134098053,
          0.8725427389144897,
          0.8716758489608765,
          0.8734654784202576,
          0.8722910284996033
         ],
         "yaxis": "y"
        },
        {
         "hovertemplate": "variable=train_acc<br>x=%{x}<br>value=%{y}<extra></extra>",
         "legendgroup": "train_acc",
         "line": {
          "color": "#EF553B",
          "dash": "solid"
         },
         "marker": {
          "symbol": "circle"
         },
         "mode": "lines",
         "name": "train_acc",
         "orientation": "v",
         "showlegend": true,
         "type": "scatter",
         "x": [
          1,
          2,
          3,
          4,
          5,
          6,
          7,
          8,
          9,
          10,
          11,
          12,
          13,
          14,
          15,
          16,
          17,
          18,
          19,
          20
         ],
         "xaxis": "x",
         "y": [
          0.8471153378486633,
          0.8690587282180786,
          0.8773399591445923,
          0.882720947265625,
          0.8868795037269592,
          0.8917691111564636,
          0.8964670300483704,
          0.9011529088020325,
          0.9044725894927979,
          0.9098535776138306,
          0.9125260710716248,
          0.9159775376319885,
          0.9189976453781128,
          0.9221615195274353,
          0.925684928894043,
          0.9284053444862366,
          0.930898129940033,
          0.9328036308288574,
          0.9354521632194519,
          0.9374296069145203
         ],
         "yaxis": "y"
        }
       ],
       "layout": {
        "legend": {
         "title": {
          "text": "variable"
         },
         "tracegroupgap": 0
        },
        "template": {
         "data": {
          "bar": [
           {
            "error_x": {
             "color": "#f2f5fa"
            },
            "error_y": {
             "color": "#f2f5fa"
            },
            "marker": {
             "line": {
              "color": "rgb(17,17,17)",
              "width": 0.5
             },
             "pattern": {
              "fillmode": "overlay",
              "size": 10,
              "solidity": 0.2
             }
            },
            "type": "bar"
           }
          ],
          "barpolar": [
           {
            "marker": {
             "line": {
              "color": "rgb(17,17,17)",
              "width": 0.5
             },
             "pattern": {
              "fillmode": "overlay",
              "size": 10,
              "solidity": 0.2
             }
            },
            "type": "barpolar"
           }
          ],
          "carpet": [
           {
            "aaxis": {
             "endlinecolor": "#A2B1C6",
             "gridcolor": "#506784",
             "linecolor": "#506784",
             "minorgridcolor": "#506784",
             "startlinecolor": "#A2B1C6"
            },
            "baxis": {
             "endlinecolor": "#A2B1C6",
             "gridcolor": "#506784",
             "linecolor": "#506784",
             "minorgridcolor": "#506784",
             "startlinecolor": "#A2B1C6"
            },
            "type": "carpet"
           }
          ],
          "choropleth": [
           {
            "colorbar": {
             "outlinewidth": 0,
             "ticks": ""
            },
            "type": "choropleth"
           }
          ],
          "contour": [
           {
            "colorbar": {
             "outlinewidth": 0,
             "ticks": ""
            },
            "colorscale": [
             [
              0,
              "#0d0887"
             ],
             [
              0.1111111111111111,
              "#46039f"
             ],
             [
              0.2222222222222222,
              "#7201a8"
             ],
             [
              0.3333333333333333,
              "#9c179e"
             ],
             [
              0.4444444444444444,
              "#bd3786"
             ],
             [
              0.5555555555555556,
              "#d8576b"
             ],
             [
              0.6666666666666666,
              "#ed7953"
             ],
             [
              0.7777777777777778,
              "#fb9f3a"
             ],
             [
              0.8888888888888888,
              "#fdca26"
             ],
             [
              1,
              "#f0f921"
             ]
            ],
            "type": "contour"
           }
          ],
          "contourcarpet": [
           {
            "colorbar": {
             "outlinewidth": 0,
             "ticks": ""
            },
            "type": "contourcarpet"
           }
          ],
          "heatmap": [
           {
            "colorbar": {
             "outlinewidth": 0,
             "ticks": ""
            },
            "colorscale": [
             [
              0,
              "#0d0887"
             ],
             [
              0.1111111111111111,
              "#46039f"
             ],
             [
              0.2222222222222222,
              "#7201a8"
             ],
             [
              0.3333333333333333,
              "#9c179e"
             ],
             [
              0.4444444444444444,
              "#bd3786"
             ],
             [
              0.5555555555555556,
              "#d8576b"
             ],
             [
              0.6666666666666666,
              "#ed7953"
             ],
             [
              0.7777777777777778,
              "#fb9f3a"
             ],
             [
              0.8888888888888888,
              "#fdca26"
             ],
             [
              1,
              "#f0f921"
             ]
            ],
            "type": "heatmap"
           }
          ],
          "heatmapgl": [
           {
            "colorbar": {
             "outlinewidth": 0,
             "ticks": ""
            },
            "colorscale": [
             [
              0,
              "#0d0887"
             ],
             [
              0.1111111111111111,
              "#46039f"
             ],
             [
              0.2222222222222222,
              "#7201a8"
             ],
             [
              0.3333333333333333,
              "#9c179e"
             ],
             [
              0.4444444444444444,
              "#bd3786"
             ],
             [
              0.5555555555555556,
              "#d8576b"
             ],
             [
              0.6666666666666666,
              "#ed7953"
             ],
             [
              0.7777777777777778,
              "#fb9f3a"
             ],
             [
              0.8888888888888888,
              "#fdca26"
             ],
             [
              1,
              "#f0f921"
             ]
            ],
            "type": "heatmapgl"
           }
          ],
          "histogram": [
           {
            "marker": {
             "pattern": {
              "fillmode": "overlay",
              "size": 10,
              "solidity": 0.2
             }
            },
            "type": "histogram"
           }
          ],
          "histogram2d": [
           {
            "colorbar": {
             "outlinewidth": 0,
             "ticks": ""
            },
            "colorscale": [
             [
              0,
              "#0d0887"
             ],
             [
              0.1111111111111111,
              "#46039f"
             ],
             [
              0.2222222222222222,
              "#7201a8"
             ],
             [
              0.3333333333333333,
              "#9c179e"
             ],
             [
              0.4444444444444444,
              "#bd3786"
             ],
             [
              0.5555555555555556,
              "#d8576b"
             ],
             [
              0.6666666666666666,
              "#ed7953"
             ],
             [
              0.7777777777777778,
              "#fb9f3a"
             ],
             [
              0.8888888888888888,
              "#fdca26"
             ],
             [
              1,
              "#f0f921"
             ]
            ],
            "type": "histogram2d"
           }
          ],
          "histogram2dcontour": [
           {
            "colorbar": {
             "outlinewidth": 0,
             "ticks": ""
            },
            "colorscale": [
             [
              0,
              "#0d0887"
             ],
             [
              0.1111111111111111,
              "#46039f"
             ],
             [
              0.2222222222222222,
              "#7201a8"
             ],
             [
              0.3333333333333333,
              "#9c179e"
             ],
             [
              0.4444444444444444,
              "#bd3786"
             ],
             [
              0.5555555555555556,
              "#d8576b"
             ],
             [
              0.6666666666666666,
              "#ed7953"
             ],
             [
              0.7777777777777778,
              "#fb9f3a"
             ],
             [
              0.8888888888888888,
              "#fdca26"
             ],
             [
              1,
              "#f0f921"
             ]
            ],
            "type": "histogram2dcontour"
           }
          ],
          "mesh3d": [
           {
            "colorbar": {
             "outlinewidth": 0,
             "ticks": ""
            },
            "type": "mesh3d"
           }
          ],
          "parcoords": [
           {
            "line": {
             "colorbar": {
              "outlinewidth": 0,
              "ticks": ""
             }
            },
            "type": "parcoords"
           }
          ],
          "pie": [
           {
            "automargin": true,
            "type": "pie"
           }
          ],
          "scatter": [
           {
            "marker": {
             "line": {
              "color": "#283442"
             }
            },
            "type": "scatter"
           }
          ],
          "scatter3d": [
           {
            "line": {
             "colorbar": {
              "outlinewidth": 0,
              "ticks": ""
             }
            },
            "marker": {
             "colorbar": {
              "outlinewidth": 0,
              "ticks": ""
             }
            },
            "type": "scatter3d"
           }
          ],
          "scattercarpet": [
           {
            "marker": {
             "colorbar": {
              "outlinewidth": 0,
              "ticks": ""
             }
            },
            "type": "scattercarpet"
           }
          ],
          "scattergeo": [
           {
            "marker": {
             "colorbar": {
              "outlinewidth": 0,
              "ticks": ""
             }
            },
            "type": "scattergeo"
           }
          ],
          "scattergl": [
           {
            "marker": {
             "line": {
              "color": "#283442"
             }
            },
            "type": "scattergl"
           }
          ],
          "scattermapbox": [
           {
            "marker": {
             "colorbar": {
              "outlinewidth": 0,
              "ticks": ""
             }
            },
            "type": "scattermapbox"
           }
          ],
          "scatterpolar": [
           {
            "marker": {
             "colorbar": {
              "outlinewidth": 0,
              "ticks": ""
             }
            },
            "type": "scatterpolar"
           }
          ],
          "scatterpolargl": [
           {
            "marker": {
             "colorbar": {
              "outlinewidth": 0,
              "ticks": ""
             }
            },
            "type": "scatterpolargl"
           }
          ],
          "scatterternary": [
           {
            "marker": {
             "colorbar": {
              "outlinewidth": 0,
              "ticks": ""
             }
            },
            "type": "scatterternary"
           }
          ],
          "surface": [
           {
            "colorbar": {
             "outlinewidth": 0,
             "ticks": ""
            },
            "colorscale": [
             [
              0,
              "#0d0887"
             ],
             [
              0.1111111111111111,
              "#46039f"
             ],
             [
              0.2222222222222222,
              "#7201a8"
             ],
             [
              0.3333333333333333,
              "#9c179e"
             ],
             [
              0.4444444444444444,
              "#bd3786"
             ],
             [
              0.5555555555555556,
              "#d8576b"
             ],
             [
              0.6666666666666666,
              "#ed7953"
             ],
             [
              0.7777777777777778,
              "#fb9f3a"
             ],
             [
              0.8888888888888888,
              "#fdca26"
             ],
             [
              1,
              "#f0f921"
             ]
            ],
            "type": "surface"
           }
          ],
          "table": [
           {
            "cells": {
             "fill": {
              "color": "#506784"
             },
             "line": {
              "color": "rgb(17,17,17)"
             }
            },
            "header": {
             "fill": {
              "color": "#2a3f5f"
             },
             "line": {
              "color": "rgb(17,17,17)"
             }
            },
            "type": "table"
           }
          ]
         },
         "layout": {
          "annotationdefaults": {
           "arrowcolor": "#f2f5fa",
           "arrowhead": 0,
           "arrowwidth": 1
          },
          "autotypenumbers": "strict",
          "coloraxis": {
           "colorbar": {
            "outlinewidth": 0,
            "ticks": ""
           }
          },
          "colorscale": {
           "diverging": [
            [
             0,
             "#8e0152"
            ],
            [
             0.1,
             "#c51b7d"
            ],
            [
             0.2,
             "#de77ae"
            ],
            [
             0.3,
             "#f1b6da"
            ],
            [
             0.4,
             "#fde0ef"
            ],
            [
             0.5,
             "#f7f7f7"
            ],
            [
             0.6,
             "#e6f5d0"
            ],
            [
             0.7,
             "#b8e186"
            ],
            [
             0.8,
             "#7fbc41"
            ],
            [
             0.9,
             "#4d9221"
            ],
            [
             1,
             "#276419"
            ]
           ],
           "sequential": [
            [
             0,
             "#0d0887"
            ],
            [
             0.1111111111111111,
             "#46039f"
            ],
            [
             0.2222222222222222,
             "#7201a8"
            ],
            [
             0.3333333333333333,
             "#9c179e"
            ],
            [
             0.4444444444444444,
             "#bd3786"
            ],
            [
             0.5555555555555556,
             "#d8576b"
            ],
            [
             0.6666666666666666,
             "#ed7953"
            ],
            [
             0.7777777777777778,
             "#fb9f3a"
            ],
            [
             0.8888888888888888,
             "#fdca26"
            ],
            [
             1,
             "#f0f921"
            ]
           ],
           "sequentialminus": [
            [
             0,
             "#0d0887"
            ],
            [
             0.1111111111111111,
             "#46039f"
            ],
            [
             0.2222222222222222,
             "#7201a8"
            ],
            [
             0.3333333333333333,
             "#9c179e"
            ],
            [
             0.4444444444444444,
             "#bd3786"
            ],
            [
             0.5555555555555556,
             "#d8576b"
            ],
            [
             0.6666666666666666,
             "#ed7953"
            ],
            [
             0.7777777777777778,
             "#fb9f3a"
            ],
            [
             0.8888888888888888,
             "#fdca26"
            ],
            [
             1,
             "#f0f921"
            ]
           ]
          },
          "colorway": [
           "#636efa",
           "#EF553B",
           "#00cc96",
           "#ab63fa",
           "#FFA15A",
           "#19d3f3",
           "#FF6692",
           "#B6E880",
           "#FF97FF",
           "#FECB52"
          ],
          "font": {
           "color": "#f2f5fa"
          },
          "geo": {
           "bgcolor": "rgb(17,17,17)",
           "lakecolor": "rgb(17,17,17)",
           "landcolor": "rgb(17,17,17)",
           "showlakes": true,
           "showland": true,
           "subunitcolor": "#506784"
          },
          "hoverlabel": {
           "align": "left"
          },
          "hovermode": "closest",
          "mapbox": {
           "style": "dark"
          },
          "paper_bgcolor": "rgb(17,17,17)",
          "plot_bgcolor": "rgb(17,17,17)",
          "polar": {
           "angularaxis": {
            "gridcolor": "#506784",
            "linecolor": "#506784",
            "ticks": ""
           },
           "bgcolor": "rgb(17,17,17)",
           "radialaxis": {
            "gridcolor": "#506784",
            "linecolor": "#506784",
            "ticks": ""
           }
          },
          "scene": {
           "xaxis": {
            "backgroundcolor": "rgb(17,17,17)",
            "gridcolor": "#506784",
            "gridwidth": 2,
            "linecolor": "#506784",
            "showbackground": true,
            "ticks": "",
            "zerolinecolor": "#C8D4E3"
           },
           "yaxis": {
            "backgroundcolor": "rgb(17,17,17)",
            "gridcolor": "#506784",
            "gridwidth": 2,
            "linecolor": "#506784",
            "showbackground": true,
            "ticks": "",
            "zerolinecolor": "#C8D4E3"
           },
           "zaxis": {
            "backgroundcolor": "rgb(17,17,17)",
            "gridcolor": "#506784",
            "gridwidth": 2,
            "linecolor": "#506784",
            "showbackground": true,
            "ticks": "",
            "zerolinecolor": "#C8D4E3"
           }
          },
          "shapedefaults": {
           "line": {
            "color": "#f2f5fa"
           }
          },
          "sliderdefaults": {
           "bgcolor": "#C8D4E3",
           "bordercolor": "rgb(17,17,17)",
           "borderwidth": 1,
           "tickwidth": 0
          },
          "ternary": {
           "aaxis": {
            "gridcolor": "#506784",
            "linecolor": "#506784",
            "ticks": ""
           },
           "baxis": {
            "gridcolor": "#506784",
            "linecolor": "#506784",
            "ticks": ""
           },
           "bgcolor": "rgb(17,17,17)",
           "caxis": {
            "gridcolor": "#506784",
            "linecolor": "#506784",
            "ticks": ""
           }
          },
          "title": {
           "x": 0.05
          },
          "updatemenudefaults": {
           "bgcolor": "#506784",
           "borderwidth": 0
          },
          "xaxis": {
           "automargin": true,
           "gridcolor": "#283442",
           "linecolor": "#506784",
           "ticks": "",
           "title": {
            "standoff": 15
           },
           "zerolinecolor": "#283442",
           "zerolinewidth": 2
          },
          "yaxis": {
           "automargin": true,
           "gridcolor": "#283442",
           "linecolor": "#506784",
           "ticks": "",
           "title": {
            "standoff": 15
           },
           "zerolinecolor": "#283442",
           "zerolinewidth": 2
          }
         }
        },
        "title": {
         "text": "Training and Validation Accuracy"
        },
        "xaxis": {
         "anchor": "y",
         "domain": [
          0,
          1
         ],
         "title": {
          "text": "x"
         }
        },
        "yaxis": {
         "anchor": "x",
         "domain": [
          0,
          1
         ],
         "title": {
          "text": "value"
         }
        }
       }
      }
     },
     "metadata": {},
     "output_type": "display_data"
    },
    {
     "data": {
      "text/plain": [
       "<Figure size 864x432 with 0 Axes>"
      ]
     },
     "metadata": {},
     "output_type": "display_data"
    }
   ],
   "source": [
    "plt.figure(figsize = (12, 6))\n",
    "\n",
    "train_acc = model_history.history['accuracy']\n",
    "val_acc = model_history.history['val_accuracy'] \n",
    "epoch = range(1, 21)\n",
    "\n",
    "\n",
    "accuracy = pd.DataFrame({'train_acc' : train_acc, 'val_acc' : val_acc})\n",
    "\n",
    "px.line(data_frame = accuracy, x = epoch, y = ['val_acc', 'train_acc'], title = 'Training and Validation Accuracy',\n",
    "        template = 'plotly_dark')"
   ]
  },
  {
   "cell_type": "code",
   "execution_count": 47,
   "metadata": {
    "colab": {
     "base_uri": "https://localhost:8080/"
    },
    "id": "Sr-EKcVtt3g0",
    "outputId": "c4e89812-0f25-4986-9b37-d94525cfc751"
   },
   "outputs": [
    {
     "name": "stdout",
     "output_type": "stream",
     "text": [
      "1118/1118 [==============================] - 1s 542us/step - loss: 0.3844 - accuracy: 0.8723\n",
      "Accuracy of model is 0.8722910284996033\n"
     ]
    }
   ],
   "source": [
    "acc_ann = model.evaluate(X_test1, y_test1)[1]\n",
    "\n",
    "print(f'Accuracy of model is {acc_ann}')"
   ]
  },
  {
   "cell_type": "markdown",
   "metadata": {},
   "source": [
    "After training, the accuracy of the model is 0.87, which is lower than the Random Forest."
   ]
  },
  {
   "cell_type": "markdown",
   "metadata": {},
   "source": [
    "### 3.5 Understanding Misclassification "
   ]
  },
  {
   "cell_type": "markdown",
   "metadata": {},
   "source": [
    "After comparing those models, we decide to use the Random Forest as our final classification method. And we want to address the perfomance in terms of potential gains and losses for the hotel.\n",
    "\n",
    "First, we want to check if our model predicts a cancelation that does not actually occur and a room ends up being double booked."
   ]
  },
  {
   "cell_type": "code",
   "execution_count": 48,
   "metadata": {},
   "outputs": [],
   "source": [
    "# Creating a dataframe to compare our predictions with our actual output\n",
    "d_cancel = pd.DataFrame(y_test)\n",
    "d_cancel['prediction'] = y_test_pred_rf\n",
    "\n",
    "pre_analysis = pd.merge(left=d_cancel, right=X_test, on=d_cancel.index)\n",
    "pre_analysis = pre_analysis.set_index('key_0')\n",
    "pre_false = pre_analysis[pre_analysis['is_canceled'] != pre_analysis['prediction']]\n",
    "pre_false_fp = pre_false[(pre_false['is_canceled']==0) & (pre_false['prediction']==1)]"
   ]
  },
  {
   "cell_type": "code",
   "execution_count": 49,
   "metadata": {},
   "outputs": [
    {
     "data": {
      "text/plain": [
       "616813.0299999996"
      ]
     },
     "execution_count": 49,
     "metadata": {},
     "output_type": "execute_result"
    }
   ],
   "source": [
    "#calculate the potential gains we obtained\n",
    "d_fp = d.loc[pre_false_fp.index]\n",
    "d_fp['total_nights'] = (d_fp['stays_in_weekend_nights']).add(d_fp['stays_in_week_nights'])\n",
    "sum((d_fp['total_nights'])*d_fp['adr'])"
   ]
  },
  {
   "cell_type": "markdown",
   "metadata": {},
   "source": [
    "If there is a new appointment on the predicted canceled room, we could prevent the loss.\n",
    "\n",
    "But if our prediction is wrong, there would be conflictions in reservation and we would lose some customers. "
   ]
  },
  {
   "cell_type": "code",
   "execution_count": 50,
   "metadata": {},
   "outputs": [
    {
     "data": {
      "text/plain": [
       "1056563.7599999986"
      ]
     },
     "execution_count": 50,
     "metadata": {},
     "output_type": "execute_result"
    }
   ],
   "source": [
    "# obtain the test data\n",
    "pre_false_fn = pre_false[(pre_false['is_canceled']==1) & (pre_false['prediction']==0)]\n",
    "\n",
    "#obtain the original data for model predicts no cancelation but actually canceled according to the index\n",
    "d_fn = d.loc[pre_false_fn.index]\n",
    "\n",
    "#calculate the money we lose \n",
    "d_fn['total_nights'] = (d_fn['stays_in_weekend_nights']).add(d_fn['stays_in_week_nights'])\n",
    "sum((d_fn['total_nights'])*d_fn['adr'])"
   ]
  },
  {
   "cell_type": "markdown",
   "metadata": {},
   "source": [
    "We will lose 1056563 and these room end up being empty since we reserved the room for those canceled room."
   ]
  },
  {
   "cell_type": "markdown",
   "metadata": {
    "id": "dKWrZ0JnPLtp"
   },
   "source": [
    "## 4. Discussion & Conclusions\n"
   ]
  },
  {
   "cell_type": "markdown",
   "metadata": {
    "id": "K5DI-0yiPLtp"
   },
   "source": [
    "**Discussion**\n",
    "\n",
    "\n",
    "After testing the accuracy of logistic regression, decision tree, artificial neural network and random forest, we finally selected the random forest with the highest test accuracy at 89%, which is higher by at least 3% than other models.\n",
    "\n",
    " In terms of model interpretation, `lead time`, `deposit type country`, `adr`, and `total_of_special_requests` are significant in the final model. It shows that when the numerical variables `lead_time` and `adr` increase, the customer tends to cancel their reservation. In the meantime, categorical variables like deposit type are Non_refund, and the country of customers come from is  PRT, which will also increase the likelihood that the customer will cancel the order. Therefore, evaluating the customer's deposit type and country of origin can effectively predict the occurrence of cancellations.However, the value of `total_of_special_requests` has a completely different tendency towards customer cancellations. With more requests, customers are less likely to cancel their orders. \n",
    "\n",
    "Finally, we tested the model's effect on performance when the predictions of random forest were wrong. When customers cancel the order, but the model predicts with no cancellation, we have XX loss. When customers do not cancel an order, and the model predicts cancellation, double booking occurs, which has a greater impact on revenue. "
   ]
  },
  {
   "cell_type": "markdown",
   "metadata": {},
   "source": [
    "**Conclusion**\n",
    "\n",
    "\n",
    "In conclusion, we try to use *random forest model* to predict the hotel cancellation and its correct prediction rate for the tested set reaches 89%, which is quite good. These features, `lead time`, `deposit type country`, `adr`, and `total_of_special_requests` are the most important features in the model. For the assessment of our model performance, we try to calculate the gain or loss when the booking is missing arranged. This amount is the `total stay days` $*$ `adr`, for the model predicts a cancellation that does not actually occur and a room ends up being double-booked, the loss is **616,813**, for the model predicts a cancellation that room ends up being empty since we reserved the room for those canceled rooms, the loss is **1,056,563**. As a result, our model can reach 89% correct prediction and analysis of the loss when miss-arranged. "
   ]
  }
 ],
 "metadata": {
  "colab": {
   "collapsed_sections": [
    "dKWrZ0JnPLtp"
   ],
   "name": "Project2_final04171928.ipynb",
   "provenance": []
  },
  "kernelspec": {
   "display_name": "Python 3 (ipykernel)",
   "language": "python",
   "name": "python3"
  },
  "language_info": {
   "codemirror_mode": {
    "name": "ipython",
    "version": 3
   },
   "file_extension": ".py",
   "mimetype": "text/x-python",
   "name": "python",
   "nbconvert_exporter": "python",
   "pygments_lexer": "ipython3",
   "version": "3.9.7"
  }
 },
 "nbformat": 4,
 "nbformat_minor": 1
}
